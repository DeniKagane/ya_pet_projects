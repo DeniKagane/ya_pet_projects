{
 "cells": [
  {
   "cell_type": "markdown",
   "id": "17f72c42",
   "metadata": {},
   "source": [
    "# Рекомендация тарифов"
   ]
  },
  {
   "cell_type": "markdown",
   "id": "2aa8366c",
   "metadata": {},
   "source": [
    "## Описание проекта"
   ]
  },
  {
   "cell_type": "markdown",
   "id": "baa3f314",
   "metadata": {},
   "source": [
    "Есть данные о поведении клиентов, которые перешли на определенные тарифы. Нужно построить модель, которая выберет подходящий тариф для новых пользователей. Предобработка данных не нужна."
   ]
  },
  {
   "cell_type": "markdown",
   "id": "23974c98",
   "metadata": {},
   "source": [
    "## Анализ данных"
   ]
  },
  {
   "cell_type": "code",
   "execution_count": 1,
   "id": "e33a3085",
   "metadata": {},
   "outputs": [],
   "source": [
    "import time\n",
    "import pandas as pd\n",
    "import numpy as np\n",
    "import matplotlib.pyplot as plt\n",
    "from tqdm import tqdm\n",
    "from sklearn import (tree, model_selection, ensemble, linear_model, metrics, dummy)"
   ]
  },
  {
   "cell_type": "markdown",
   "id": "4b114eaa",
   "metadata": {},
   "source": [
    "Загрузим данные"
   ]
  },
  {
   "cell_type": "code",
   "execution_count": 2,
   "id": "52912b1d",
   "metadata": {},
   "outputs": [],
   "source": [
    "data = pd.read_csv('https://code.s3.yandex.net/datasets/users_behavior.csv')"
   ]
  },
  {
   "cell_type": "code",
   "execution_count": 3,
   "id": "089cf474",
   "metadata": {},
   "outputs": [
    {
     "data": {
      "text/html": [
       "<div>\n",
       "<style scoped>\n",
       "    .dataframe tbody tr th:only-of-type {\n",
       "        vertical-align: middle;\n",
       "    }\n",
       "\n",
       "    .dataframe tbody tr th {\n",
       "        vertical-align: top;\n",
       "    }\n",
       "\n",
       "    .dataframe thead th {\n",
       "        text-align: right;\n",
       "    }\n",
       "</style>\n",
       "<table border=\"1\" class=\"dataframe\">\n",
       "  <thead>\n",
       "    <tr style=\"text-align: right;\">\n",
       "      <th></th>\n",
       "      <th>calls</th>\n",
       "      <th>minutes</th>\n",
       "      <th>messages</th>\n",
       "      <th>mb_used</th>\n",
       "      <th>is_ultra</th>\n",
       "    </tr>\n",
       "  </thead>\n",
       "  <tbody>\n",
       "    <tr>\n",
       "      <th>0</th>\n",
       "      <td>40.0</td>\n",
       "      <td>311.90</td>\n",
       "      <td>83.0</td>\n",
       "      <td>19915.42</td>\n",
       "      <td>0</td>\n",
       "    </tr>\n",
       "    <tr>\n",
       "      <th>1</th>\n",
       "      <td>85.0</td>\n",
       "      <td>516.75</td>\n",
       "      <td>56.0</td>\n",
       "      <td>22696.96</td>\n",
       "      <td>0</td>\n",
       "    </tr>\n",
       "    <tr>\n",
       "      <th>2</th>\n",
       "      <td>77.0</td>\n",
       "      <td>467.66</td>\n",
       "      <td>86.0</td>\n",
       "      <td>21060.45</td>\n",
       "      <td>0</td>\n",
       "    </tr>\n",
       "    <tr>\n",
       "      <th>3</th>\n",
       "      <td>106.0</td>\n",
       "      <td>745.53</td>\n",
       "      <td>81.0</td>\n",
       "      <td>8437.39</td>\n",
       "      <td>1</td>\n",
       "    </tr>\n",
       "    <tr>\n",
       "      <th>4</th>\n",
       "      <td>66.0</td>\n",
       "      <td>418.74</td>\n",
       "      <td>1.0</td>\n",
       "      <td>14502.75</td>\n",
       "      <td>0</td>\n",
       "    </tr>\n",
       "    <tr>\n",
       "      <th>5</th>\n",
       "      <td>58.0</td>\n",
       "      <td>344.56</td>\n",
       "      <td>21.0</td>\n",
       "      <td>15823.37</td>\n",
       "      <td>0</td>\n",
       "    </tr>\n",
       "    <tr>\n",
       "      <th>6</th>\n",
       "      <td>57.0</td>\n",
       "      <td>431.64</td>\n",
       "      <td>20.0</td>\n",
       "      <td>3738.90</td>\n",
       "      <td>1</td>\n",
       "    </tr>\n",
       "    <tr>\n",
       "      <th>7</th>\n",
       "      <td>15.0</td>\n",
       "      <td>132.40</td>\n",
       "      <td>6.0</td>\n",
       "      <td>21911.60</td>\n",
       "      <td>0</td>\n",
       "    </tr>\n",
       "    <tr>\n",
       "      <th>8</th>\n",
       "      <td>7.0</td>\n",
       "      <td>43.39</td>\n",
       "      <td>3.0</td>\n",
       "      <td>2538.67</td>\n",
       "      <td>1</td>\n",
       "    </tr>\n",
       "    <tr>\n",
       "      <th>9</th>\n",
       "      <td>90.0</td>\n",
       "      <td>665.41</td>\n",
       "      <td>38.0</td>\n",
       "      <td>17358.61</td>\n",
       "      <td>0</td>\n",
       "    </tr>\n",
       "    <tr>\n",
       "      <th>10</th>\n",
       "      <td>82.0</td>\n",
       "      <td>560.51</td>\n",
       "      <td>20.0</td>\n",
       "      <td>9619.53</td>\n",
       "      <td>1</td>\n",
       "    </tr>\n",
       "    <tr>\n",
       "      <th>11</th>\n",
       "      <td>45.0</td>\n",
       "      <td>344.32</td>\n",
       "      <td>13.0</td>\n",
       "      <td>19898.81</td>\n",
       "      <td>0</td>\n",
       "    </tr>\n",
       "    <tr>\n",
       "      <th>12</th>\n",
       "      <td>51.0</td>\n",
       "      <td>437.13</td>\n",
       "      <td>61.0</td>\n",
       "      <td>21523.58</td>\n",
       "      <td>0</td>\n",
       "    </tr>\n",
       "    <tr>\n",
       "      <th>13</th>\n",
       "      <td>56.0</td>\n",
       "      <td>433.07</td>\n",
       "      <td>16.0</td>\n",
       "      <td>16702.36</td>\n",
       "      <td>0</td>\n",
       "    </tr>\n",
       "    <tr>\n",
       "      <th>14</th>\n",
       "      <td>108.0</td>\n",
       "      <td>587.90</td>\n",
       "      <td>0.0</td>\n",
       "      <td>14406.50</td>\n",
       "      <td>1</td>\n",
       "    </tr>\n",
       "  </tbody>\n",
       "</table>\n",
       "</div>"
      ],
      "text/plain": [
       "    calls  minutes  messages   mb_used  is_ultra\n",
       "0    40.0   311.90      83.0  19915.42         0\n",
       "1    85.0   516.75      56.0  22696.96         0\n",
       "2    77.0   467.66      86.0  21060.45         0\n",
       "3   106.0   745.53      81.0   8437.39         1\n",
       "4    66.0   418.74       1.0  14502.75         0\n",
       "5    58.0   344.56      21.0  15823.37         0\n",
       "6    57.0   431.64      20.0   3738.90         1\n",
       "7    15.0   132.40       6.0  21911.60         0\n",
       "8     7.0    43.39       3.0   2538.67         1\n",
       "9    90.0   665.41      38.0  17358.61         0\n",
       "10   82.0   560.51      20.0   9619.53         1\n",
       "11   45.0   344.32      13.0  19898.81         0\n",
       "12   51.0   437.13      61.0  21523.58         0\n",
       "13   56.0   433.07      16.0  16702.36         0\n",
       "14  108.0   587.90       0.0  14406.50         1"
      ]
     },
     "execution_count": 3,
     "metadata": {},
     "output_type": "execute_result"
    }
   ],
   "source": [
    "data.head(15)"
   ]
  },
  {
   "cell_type": "markdown",
   "id": "89528f55",
   "metadata": {},
   "source": [
    "Исходя их таблицы, целевой признак - \"is_ultra\", он бинарный. Тогда стоит отнести задачу к задаче классификации, т.к. происходит выбор между двумя категориями."
   ]
  },
  {
   "cell_type": "code",
   "execution_count": 4,
   "id": "b4300385",
   "metadata": {},
   "outputs": [
    {
     "name": "stdout",
     "output_type": "stream",
     "text": [
      "<class 'pandas.core.frame.DataFrame'>\n",
      "RangeIndex: 3214 entries, 0 to 3213\n",
      "Data columns (total 5 columns):\n",
      " #   Column    Non-Null Count  Dtype  \n",
      "---  ------    --------------  -----  \n",
      " 0   calls     3214 non-null   float64\n",
      " 1   minutes   3214 non-null   float64\n",
      " 2   messages  3214 non-null   float64\n",
      " 3   mb_used   3214 non-null   float64\n",
      " 4   is_ultra  3214 non-null   int64  \n",
      "dtypes: float64(4), int64(1)\n",
      "memory usage: 125.7 KB\n"
     ]
    }
   ],
   "source": [
    "data.info()"
   ]
  },
  {
   "cell_type": "markdown",
   "id": "85433e32",
   "metadata": {},
   "source": [
    "В данных нет пропусков"
   ]
  },
  {
   "cell_type": "code",
   "execution_count": 5,
   "id": "d6833b74",
   "metadata": {},
   "outputs": [
    {
     "data": {
      "text/html": [
       "<div>\n",
       "<style scoped>\n",
       "    .dataframe tbody tr th:only-of-type {\n",
       "        vertical-align: middle;\n",
       "    }\n",
       "\n",
       "    .dataframe tbody tr th {\n",
       "        vertical-align: top;\n",
       "    }\n",
       "\n",
       "    .dataframe thead th {\n",
       "        text-align: right;\n",
       "    }\n",
       "</style>\n",
       "<table border=\"1\" class=\"dataframe\">\n",
       "  <thead>\n",
       "    <tr style=\"text-align: right;\">\n",
       "      <th></th>\n",
       "      <th>calls</th>\n",
       "      <th>minutes</th>\n",
       "      <th>messages</th>\n",
       "      <th>mb_used</th>\n",
       "      <th>is_ultra</th>\n",
       "    </tr>\n",
       "  </thead>\n",
       "  <tbody>\n",
       "    <tr>\n",
       "      <th>count</th>\n",
       "      <td>3214.000000</td>\n",
       "      <td>3214.000000</td>\n",
       "      <td>3214.000000</td>\n",
       "      <td>3214.000000</td>\n",
       "      <td>3214.000000</td>\n",
       "    </tr>\n",
       "    <tr>\n",
       "      <th>mean</th>\n",
       "      <td>63.038892</td>\n",
       "      <td>438.208787</td>\n",
       "      <td>38.281269</td>\n",
       "      <td>17207.673836</td>\n",
       "      <td>0.306472</td>\n",
       "    </tr>\n",
       "    <tr>\n",
       "      <th>std</th>\n",
       "      <td>33.236368</td>\n",
       "      <td>234.569872</td>\n",
       "      <td>36.148326</td>\n",
       "      <td>7570.968246</td>\n",
       "      <td>0.461100</td>\n",
       "    </tr>\n",
       "    <tr>\n",
       "      <th>min</th>\n",
       "      <td>0.000000</td>\n",
       "      <td>0.000000</td>\n",
       "      <td>0.000000</td>\n",
       "      <td>0.000000</td>\n",
       "      <td>0.000000</td>\n",
       "    </tr>\n",
       "    <tr>\n",
       "      <th>25%</th>\n",
       "      <td>40.000000</td>\n",
       "      <td>274.575000</td>\n",
       "      <td>9.000000</td>\n",
       "      <td>12491.902500</td>\n",
       "      <td>0.000000</td>\n",
       "    </tr>\n",
       "    <tr>\n",
       "      <th>50%</th>\n",
       "      <td>62.000000</td>\n",
       "      <td>430.600000</td>\n",
       "      <td>30.000000</td>\n",
       "      <td>16943.235000</td>\n",
       "      <td>0.000000</td>\n",
       "    </tr>\n",
       "    <tr>\n",
       "      <th>75%</th>\n",
       "      <td>82.000000</td>\n",
       "      <td>571.927500</td>\n",
       "      <td>57.000000</td>\n",
       "      <td>21424.700000</td>\n",
       "      <td>1.000000</td>\n",
       "    </tr>\n",
       "    <tr>\n",
       "      <th>max</th>\n",
       "      <td>244.000000</td>\n",
       "      <td>1632.060000</td>\n",
       "      <td>224.000000</td>\n",
       "      <td>49745.730000</td>\n",
       "      <td>1.000000</td>\n",
       "    </tr>\n",
       "  </tbody>\n",
       "</table>\n",
       "</div>"
      ],
      "text/plain": [
       "             calls      minutes     messages       mb_used     is_ultra\n",
       "count  3214.000000  3214.000000  3214.000000   3214.000000  3214.000000\n",
       "mean     63.038892   438.208787    38.281269  17207.673836     0.306472\n",
       "std      33.236368   234.569872    36.148326   7570.968246     0.461100\n",
       "min       0.000000     0.000000     0.000000      0.000000     0.000000\n",
       "25%      40.000000   274.575000     9.000000  12491.902500     0.000000\n",
       "50%      62.000000   430.600000    30.000000  16943.235000     0.000000\n",
       "75%      82.000000   571.927500    57.000000  21424.700000     1.000000\n",
       "max     244.000000  1632.060000   224.000000  49745.730000     1.000000"
      ]
     },
     "execution_count": 5,
     "metadata": {},
     "output_type": "execute_result"
    }
   ],
   "source": [
    "data.describe()"
   ]
  },
  {
   "cell_type": "markdown",
   "id": "a9cc7b77",
   "metadata": {},
   "source": [
    "У целевого признака среднее значение ближе к 0, проверим, сколько 0 и 1"
   ]
  },
  {
   "cell_type": "code",
   "execution_count": 6,
   "id": "de3f9a59",
   "metadata": {},
   "outputs": [
    {
     "name": "stdout",
     "output_type": "stream",
     "text": [
      "985\n",
      "2229\n",
      "2.2629441624365483\n"
     ]
    }
   ],
   "source": [
    "print(data.query('is_ultra == 1')['is_ultra'].count())\n",
    "print(data.query('is_ultra == 0')['is_ultra'].count())\n",
    "print(data.query('is_ultra == 0')['is_ultra'].count()/data.query('is_ultra == 1')['is_ultra'].count())"
   ]
  },
  {
   "cell_type": "markdown",
   "id": "495bc403",
   "metadata": {},
   "source": [
    "В целевом признаке присутствует дисбаланс в сторону 0. Нулей 69%, значит, модель должна превзойти значение accuracy 0,69, чтобы быть признанной адекватной."
   ]
  },
  {
   "cell_type": "code",
   "execution_count": 7,
   "id": "d82c8e04",
   "metadata": {},
   "outputs": [
    {
     "data": {
      "text/html": [
       "<div>\n",
       "<style scoped>\n",
       "    .dataframe tbody tr th:only-of-type {\n",
       "        vertical-align: middle;\n",
       "    }\n",
       "\n",
       "    .dataframe tbody tr th {\n",
       "        vertical-align: top;\n",
       "    }\n",
       "\n",
       "    .dataframe thead th {\n",
       "        text-align: right;\n",
       "    }\n",
       "</style>\n",
       "<table border=\"1\" class=\"dataframe\">\n",
       "  <thead>\n",
       "    <tr style=\"text-align: right;\">\n",
       "      <th></th>\n",
       "      <th>calls</th>\n",
       "      <th>minutes</th>\n",
       "      <th>messages</th>\n",
       "      <th>mb_used</th>\n",
       "      <th>is_ultra</th>\n",
       "    </tr>\n",
       "  </thead>\n",
       "  <tbody>\n",
       "    <tr>\n",
       "      <th>calls</th>\n",
       "      <td>1.000000</td>\n",
       "      <td>0.982083</td>\n",
       "      <td>0.177385</td>\n",
       "      <td>0.286442</td>\n",
       "      <td>0.207122</td>\n",
       "    </tr>\n",
       "    <tr>\n",
       "      <th>minutes</th>\n",
       "      <td>0.982083</td>\n",
       "      <td>1.000000</td>\n",
       "      <td>0.173110</td>\n",
       "      <td>0.280967</td>\n",
       "      <td>0.206955</td>\n",
       "    </tr>\n",
       "    <tr>\n",
       "      <th>messages</th>\n",
       "      <td>0.177385</td>\n",
       "      <td>0.173110</td>\n",
       "      <td>1.000000</td>\n",
       "      <td>0.195721</td>\n",
       "      <td>0.203830</td>\n",
       "    </tr>\n",
       "    <tr>\n",
       "      <th>mb_used</th>\n",
       "      <td>0.286442</td>\n",
       "      <td>0.280967</td>\n",
       "      <td>0.195721</td>\n",
       "      <td>1.000000</td>\n",
       "      <td>0.198568</td>\n",
       "    </tr>\n",
       "    <tr>\n",
       "      <th>is_ultra</th>\n",
       "      <td>0.207122</td>\n",
       "      <td>0.206955</td>\n",
       "      <td>0.203830</td>\n",
       "      <td>0.198568</td>\n",
       "      <td>1.000000</td>\n",
       "    </tr>\n",
       "  </tbody>\n",
       "</table>\n",
       "</div>"
      ],
      "text/plain": [
       "             calls   minutes  messages   mb_used  is_ultra\n",
       "calls     1.000000  0.982083  0.177385  0.286442  0.207122\n",
       "minutes   0.982083  1.000000  0.173110  0.280967  0.206955\n",
       "messages  0.177385  0.173110  1.000000  0.195721  0.203830\n",
       "mb_used   0.286442  0.280967  0.195721  1.000000  0.198568\n",
       "is_ultra  0.207122  0.206955  0.203830  0.198568  1.000000"
      ]
     },
     "execution_count": 7,
     "metadata": {},
     "output_type": "execute_result"
    }
   ],
   "source": [
    "data.corr()"
   ]
  },
  {
   "cell_type": "markdown",
   "id": "644cfd64",
   "metadata": {},
   "source": [
    "Между звонками и минутами есть прямая зависимость, но в логистической и в линейной регрессиях реализована регуляризация, которая решает проблему мультиколлинеарности признаков. Деревья также устойчивы к мультиколлинеарности. Получается, избавляться от мультиколлинеарности, чтобы не переобучаться, не обязательно."
   ]
  },
  {
   "cell_type": "markdown",
   "id": "648dd5b9",
   "metadata": {},
   "source": [
    "## Обучение модели"
   ]
  },
  {
   "cell_type": "code",
   "execution_count": 8,
   "id": "a91f06e3",
   "metadata": {},
   "outputs": [],
   "source": [
    "rand=12345"
   ]
  },
  {
   "cell_type": "markdown",
   "id": "8da18141",
   "metadata": {},
   "source": [
    "Разделим данные на тренировочную и тестовую выборки, так как у нас нет \"спрятанной\" тестовой выборки, и надо, соответственно, делить в отношении 3:1:1"
   ]
  },
  {
   "cell_type": "code",
   "execution_count": 9,
   "id": "32c9675f",
   "metadata": {},
   "outputs": [
    {
     "data": {
      "text/html": [
       "<div>\n",
       "<style scoped>\n",
       "    .dataframe tbody tr th:only-of-type {\n",
       "        vertical-align: middle;\n",
       "    }\n",
       "\n",
       "    .dataframe tbody tr th {\n",
       "        vertical-align: top;\n",
       "    }\n",
       "\n",
       "    .dataframe thead th {\n",
       "        text-align: right;\n",
       "    }\n",
       "</style>\n",
       "<table border=\"1\" class=\"dataframe\">\n",
       "  <thead>\n",
       "    <tr style=\"text-align: right;\">\n",
       "      <th></th>\n",
       "      <th>calls</th>\n",
       "      <th>messages</th>\n",
       "      <th>mb_used</th>\n",
       "    </tr>\n",
       "  </thead>\n",
       "  <tbody>\n",
       "    <tr>\n",
       "      <th>348</th>\n",
       "      <td>77.0</td>\n",
       "      <td>14.0</td>\n",
       "      <td>19462.45</td>\n",
       "    </tr>\n",
       "    <tr>\n",
       "      <th>1172</th>\n",
       "      <td>144.0</td>\n",
       "      <td>99.0</td>\n",
       "      <td>40174.34</td>\n",
       "    </tr>\n",
       "    <tr>\n",
       "      <th>2315</th>\n",
       "      <td>48.0</td>\n",
       "      <td>0.0</td>\n",
       "      <td>19000.02</td>\n",
       "    </tr>\n",
       "    <tr>\n",
       "      <th>954</th>\n",
       "      <td>52.0</td>\n",
       "      <td>40.0</td>\n",
       "      <td>24574.82</td>\n",
       "    </tr>\n",
       "    <tr>\n",
       "      <th>2918</th>\n",
       "      <td>77.0</td>\n",
       "      <td>100.0</td>\n",
       "      <td>10518.28</td>\n",
       "    </tr>\n",
       "    <tr>\n",
       "      <th>...</th>\n",
       "      <td>...</td>\n",
       "      <td>...</td>\n",
       "      <td>...</td>\n",
       "    </tr>\n",
       "    <tr>\n",
       "      <th>2817</th>\n",
       "      <td>12.0</td>\n",
       "      <td>22.0</td>\n",
       "      <td>36628.85</td>\n",
       "    </tr>\n",
       "    <tr>\n",
       "      <th>546</th>\n",
       "      <td>65.0</td>\n",
       "      <td>0.0</td>\n",
       "      <td>15214.25</td>\n",
       "    </tr>\n",
       "    <tr>\n",
       "      <th>382</th>\n",
       "      <td>144.0</td>\n",
       "      <td>0.0</td>\n",
       "      <td>25002.44</td>\n",
       "    </tr>\n",
       "    <tr>\n",
       "      <th>2177</th>\n",
       "      <td>38.0</td>\n",
       "      <td>37.0</td>\n",
       "      <td>28914.24</td>\n",
       "    </tr>\n",
       "    <tr>\n",
       "      <th>482</th>\n",
       "      <td>160.0</td>\n",
       "      <td>95.0</td>\n",
       "      <td>36843.92</td>\n",
       "    </tr>\n",
       "  </tbody>\n",
       "</table>\n",
       "<p>2571 rows × 3 columns</p>\n",
       "</div>"
      ],
      "text/plain": [
       "      calls  messages   mb_used\n",
       "348    77.0      14.0  19462.45\n",
       "1172  144.0      99.0  40174.34\n",
       "2315   48.0       0.0  19000.02\n",
       "954    52.0      40.0  24574.82\n",
       "2918   77.0     100.0  10518.28\n",
       "...     ...       ...       ...\n",
       "2817   12.0      22.0  36628.85\n",
       "546    65.0       0.0  15214.25\n",
       "382   144.0       0.0  25002.44\n",
       "2177   38.0      37.0  28914.24\n",
       "482   160.0      95.0  36843.92\n",
       "\n",
       "[2571 rows x 3 columns]"
      ]
     },
     "execution_count": 9,
     "metadata": {},
     "output_type": "execute_result"
    }
   ],
   "source": [
    "data_train, data_test = model_selection.train_test_split(data, test_size=0.2, random_state=12345)\n",
    "features = data_train.drop(['is_ultra','minutes'], axis=1)\n",
    "features"
   ]
  },
  {
   "cell_type": "code",
   "execution_count": 10,
   "id": "3b61cd78",
   "metadata": {},
   "outputs": [
    {
     "data": {
      "text/plain": [
       "348     0\n",
       "1172    1\n",
       "2315    0\n",
       "954     0\n",
       "2918    1\n",
       "       ..\n",
       "2817    1\n",
       "546     1\n",
       "382     1\n",
       "2177    1\n",
       "482     1\n",
       "Name: is_ultra, Length: 2571, dtype: int64"
      ]
     },
     "execution_count": 10,
     "metadata": {},
     "output_type": "execute_result"
    }
   ],
   "source": [
    "target = data_train['is_ultra']\n",
    "target"
   ]
  },
  {
   "cell_type": "markdown",
   "id": "52a05756",
   "metadata": {},
   "source": [
    "Делим тренировочную выборку на обучающую и валидационную"
   ]
  },
  {
   "cell_type": "code",
   "execution_count": 11,
   "id": "3761becb",
   "metadata": {},
   "outputs": [],
   "source": [
    "features_train, features_valid, target_train, target_valid = model_selection.train_test_split(features, target, \n",
    "                                                                              test_size=0.25, random_state=12345, stratify=target)"
   ]
  },
  {
   "cell_type": "markdown",
   "id": "a604400d",
   "metadata": {},
   "source": [
    "На данный момент мне известно три основных модели, подходящие для классификации: дерево решений, случайный лес и логистическая регрессия. Сначала посмотрю, какая из моделей без настроек гиперпараметров показывает лучший результат в точности "
   ]
  },
  {
   "cell_type": "code",
   "execution_count": 12,
   "id": "ce12b72b",
   "metadata": {},
   "outputs": [],
   "source": [
    "models = [tree.DecisionTreeClassifier(random_state=rand), \n",
    "          ensemble.RandomForestClassifier(random_state=rand), linear_model.LogisticRegression(random_state=12345)]\n",
    "names = ['Дерево решений', 'Случайный лес', 'Логистическая регрессия']"
   ]
  },
  {
   "cell_type": "markdown",
   "id": "ef511314",
   "metadata": {},
   "source": [
    "Лучше всего справляется с задачей случайный лес. Посмотрим, могут ли другие модели при подборе гиперпараметров выдать более хороший результат. Попробуем подобрать количество итераций для логистической регрессии."
   ]
  },
  {
   "cell_type": "code",
   "execution_count": 13,
   "id": "c2d84c8d",
   "metadata": {},
   "outputs": [
    {
     "name": "stdout",
     "output_type": "stream",
     "text": [
      "Наиболее подходящее количество итераций: 100\n",
      "Точность: 0.7558320373250389\n"
     ]
    },
    {
     "data": {
      "image/png": "[encoded data removed]",
      "text/plain": [
       "<Figure size 640x480 with 1 Axes>"
      ]
     },
     "metadata": {},
     "output_type": "display_data"
    }
   ],
   "source": [
    "iterations = [100, 250, 500, 800, 1000]\n",
    "acur_plot = []\n",
    "best_iter = 0\n",
    "best_accuracy = 0\n",
    "for iteration in iterations:\n",
    "    model = linear_model.LogisticRegression(random_state=12345, max_iter=iteration)\n",
    "    model.fit(features_train, target_train)\n",
    "    predictions_valid = model.predict(features_valid)\n",
    "    accuracy = metrics.accuracy_score(target_valid, predictions_valid)\n",
    "    if accuracy > best_accuracy:\n",
    "        best_accuracy = accuracy\n",
    "        best_iter = iteration\n",
    "    acur_plot.append(accuracy)\n",
    "print('Наиболее подходящее количество итераций:', best_iter)\n",
    "print('Точность:', best_accuracy)\n",
    "plt.plot(iterations, acur_plot)\n",
    "plt.ylabel('Точность')\n",
    "plt.xlabel('Количество итераций');"
   ]
  },
  {
   "cell_type": "markdown",
   "id": "3f3772ec",
   "metadata": {},
   "source": [
    "Количество итераций не помогает улучшить точность модели."
   ]
  },
  {
   "cell_type": "markdown",
   "id": "22d169f2",
   "metadata": {},
   "source": [
    "Попробуем подобрать гиперпараметры для дерева решений"
   ]
  },
  {
   "cell_type": "code",
   "execution_count": 14,
   "id": "12f1cb69",
   "metadata": {},
   "outputs": [
    {
     "name": "stdout",
     "output_type": "stream",
     "text": [
      "Наиболее подходящая глубина дерева: 12\n",
      "Точность: 0.8087091757387247\n"
     ]
    },
    {
     "data": {
      "image/png": "[encoded data removed]",
      "text/plain": [
       "<Figure size 640x480 with 1 Axes>"
      ]
     },
     "metadata": {},
     "output_type": "display_data"
    }
   ],
   "source": [
    "best_depth = 0\n",
    "best_accuracy = 0\n",
    "acur_plot = []\n",
    "for i in range(1,30):\n",
    "    model = tree.DecisionTreeClassifier(random_state=12345, max_depth=i)\n",
    "    model.fit(features_train, target_train)\n",
    "    predictions_valid = model.predict(features_valid)\n",
    "    accuracy = metrics.accuracy_score(target_valid, predictions_valid)\n",
    "    if accuracy > best_accuracy:\n",
    "        best_accuracy = accuracy\n",
    "        best_depth = i\n",
    "    acur_plot.append(accuracy)\n",
    "print('Наиболее подходящая глубина дерева:', best_depth)\n",
    "print('Точность:', best_accuracy)\n",
    "plt.plot(range(1,30), acur_plot)\n",
    "plt.ylabel('Точность')\n",
    "plt.xlabel('Глубина дерева');"
   ]
  },
  {
   "cell_type": "markdown",
   "id": "898cede3",
   "metadata": {},
   "source": [
    "При наблюдении за изменением точности модели можно увидеть, что точность резко увеличивается до глубины 3-4, далее уже более плавно до глубины 12, и затем резко падает с увилечением глубины деревьев, вероятно, из-за переобучения"
   ]
  },
  {
   "cell_type": "code",
   "execution_count": 15,
   "id": "4c0cb01f",
   "metadata": {},
   "outputs": [
    {
     "data": {
      "image/png": "[encoded data removed]",
      "text/plain": [
       "<Figure size 640x480 with 1 Axes>"
      ]
     },
     "metadata": {},
     "output_type": "display_data"
    },
    {
     "data": {
      "image/png": "[encoded data removed]",
      "text/plain": [
       "<Figure size 640x480 with 1 Axes>"
      ]
     },
     "metadata": {},
     "output_type": "display_data"
    },
    {
     "data": {
      "image/png": "[encoded data removed]",
      "text/plain": [
       "<Figure size 640x480 with 1 Axes>"
      ]
     },
     "metadata": {},
     "output_type": "display_data"
    },
    {
     "data": {
      "text/plain": [
       "<Figure size 640x480 with 0 Axes>"
      ]
     },
     "metadata": {},
     "output_type": "display_data"
    }
   ],
   "source": [
    "for i in range(1,4):\n",
    "    model = tree.DecisionTreeClassifier(random_state=12345, max_depth=i)\n",
    "    model = model.fit(features_train, target_train)\n",
    "    tree.plot_tree(model)\n",
    "    plt.figure();"
   ]
  },
  {
   "cell_type": "code",
   "execution_count": 16,
   "id": "5f921012",
   "metadata": {},
   "outputs": [
    {
     "name": "stdout",
     "output_type": "stream",
     "text": [
      "Лучшие параметры: Глубина: 14 split: 9 leaf: 9\n",
      "Точность: 0.7884914463452566\n"
     ]
    }
   ],
   "source": [
    "best_split = 0\n",
    "best_leaf = 0\n",
    "best_depth = 0\n",
    "best_accuracy = 0\n",
    "for i in range(1,15):\n",
    "    for j in range(2,10):\n",
    "        for k in range(1,10):\n",
    "                model = tree.DecisionTreeClassifier(random_state=12345, min_samples_split=j, \n",
    "                                               min_samples_leaf=k,\n",
    "                                               max_depth=i)\n",
    "                model.fit(features_train, target_train)\n",
    "                predictions_valid = model.predict(features_valid)\n",
    "                accuracy = metrics.accuracy_score(target_valid, predictions_valid)\n",
    "                if accuracy > best_accuracy:\n",
    "                    best_accuracy = accuracy\n",
    "                    best_depth = i\n",
    "                    best_split = j\n",
    "                    best_leaf = k\n",
    "print('Лучшие параметры: Глубина:', i, \"split:\", j, \"leaf:\", k)\n",
    "print('Точность:', accuracy)"
   ]
  },
  {
   "cell_type": "markdown",
   "id": "34fc1834",
   "metadata": {},
   "source": [
    "При переборе параметров можно улучшить модель одного дерева с 0.77 до 0.79"
   ]
  },
  {
   "cell_type": "markdown",
   "id": "1a686d48",
   "metadata": {},
   "source": [
    "В целом, подбор параметров для одиночного дерева не делает его лучше случайного леса. Тогда попробуем улучшить модель леса перебором."
   ]
  },
  {
   "cell_type": "code",
   "execution_count": 17,
   "id": "a95c553d",
   "metadata": {},
   "outputs": [
    {
     "name": "stderr",
     "output_type": "stream",
     "text": [
      "100%|██████████| 9/9 [02:58<00:00, 19.84s/it]"
     ]
    },
    {
     "name": "stdout",
     "output_type": "stream",
     "text": [
      "Наиболее подходящее количество решателей: 100\n",
      "Наиболее подходящая глубина деревьев: 6\n",
      "Точность: 0.8195956454121306\n"
     ]
    },
    {
     "name": "stderr",
     "output_type": "stream",
     "text": [
      "\n"
     ]
    }
   ],
   "source": [
    "best_est = 0\n",
    "best_accuracy = 0\n",
    "best_depth = 0\n",
    "for i in tqdm(range(100, 1000, 100)):\n",
    "    time.sleep(1)\n",
    "    for j in range(1,20):\n",
    "        model = ensemble.RandomForestClassifier(random_state=12345, n_estimators=i, max_depth=j)\n",
    "        model.fit(features_train, target_train)\n",
    "        predictions_valid = model.predict(features_valid)\n",
    "        accuracy = metrics.accuracy_score(target_valid, predictions_valid)\n",
    "        if accuracy > best_accuracy:\n",
    "            best_accuracy = accuracy\n",
    "            best_est = i\n",
    "            best_depth = j\n",
    "print('Наиболее подходящее количество решателей:', best_est)\n",
    "print(\"Наиболее подходящая глубина деревьев:\", best_depth)\n",
    "print('Точность:', best_accuracy)"
   ]
  },
  {
   "cell_type": "markdown",
   "id": "0b2d1727",
   "metadata": {},
   "source": [
    "Итог: Суммарно, лучшая модель для данной выборки - это случайный лес. Логистическая регрессия показывает недостаточный показатель точности. Подбор гиперпараметров улучшает точность для дерева решений, но его точность получается все равно меньше, чем у случайного леса."
   ]
  },
  {
   "cell_type": "markdown",
   "id": "42c5a614",
   "metadata": {},
   "source": [
    "## Тестирование модели"
   ]
  },
  {
   "cell_type": "markdown",
   "id": "cee37330",
   "metadata": {},
   "source": [
    "Разделим тестовую выборку на признаки и целевой признак"
   ]
  },
  {
   "cell_type": "code",
   "execution_count": 18,
   "id": "37ab0376",
   "metadata": {},
   "outputs": [],
   "source": [
    "features_test = data_test.drop(['is_ultra', 'minutes'], axis=1)\n",
    "target_test = data_test['is_ultra']"
   ]
  },
  {
   "cell_type": "markdown",
   "id": "2c950c32",
   "metadata": {},
   "source": [
    "Проверим на ней модель случайного леса с подобранным количеством решателей"
   ]
  },
  {
   "cell_type": "code",
   "execution_count": 19,
   "id": "7a134cae",
   "metadata": {},
   "outputs": [
    {
     "name": "stdout",
     "output_type": "stream",
     "text": [
      "Точность: 0.7853810264385692\n"
     ]
    }
   ],
   "source": [
    "model = ensemble.RandomForestClassifier(random_state=12345, n_estimators=100, max_depth=6)\n",
    "model.fit(features_train, target_train)\n",
    "predictions_test = model.predict(features_test)\n",
    "accuracy = metrics.accuracy_score(target_test, predictions_test)\n",
    "print('Точность:', accuracy)"
   ]
  },
  {
   "cell_type": "markdown",
   "id": "cc8af782",
   "metadata": {},
   "source": [
    "Точность модели на тестовой выборке близка к точности на обучающей и валидационной и превышает 0.75"
   ]
  },
  {
   "cell_type": "markdown",
   "id": "488d7359",
   "metadata": {},
   "source": [
    "Теперь попробуем обучить модель на валидационной+тестовой выборке, чтобы узнать, увеличится ли точность при большем количестве данных для обучения"
   ]
  },
  {
   "cell_type": "code",
   "execution_count": 20,
   "id": "9bd8d322",
   "metadata": {},
   "outputs": [],
   "source": [
    "features_test_val = pd.concat([features_train, features_valid])\n",
    "target_test_val = pd.concat([target_train, target_valid])"
   ]
  },
  {
   "cell_type": "code",
   "execution_count": 21,
   "id": "397ca796",
   "metadata": {},
   "outputs": [
    {
     "name": "stdout",
     "output_type": "stream",
     "text": [
      "Точность: 0.7916018662519441\n"
     ]
    }
   ],
   "source": [
    "model = ensemble.RandomForestClassifier(random_state=12345, n_estimators=100, max_depth=6)\n",
    "model.fit(features_test_val, target_test_val)\n",
    "predictions_test = model.predict(features_test)\n",
    "accuracy = metrics.accuracy_score(target_test, predictions_test)\n",
    "print('Точность:', accuracy)"
   ]
  },
  {
   "cell_type": "markdown",
   "id": "8f861567",
   "metadata": {},
   "source": [
    "Действительно, точность предсказания модели по тестовой выборке увеличилась"
   ]
  },
  {
   "cell_type": "markdown",
   "id": "186bc293",
   "metadata": {},
   "source": [
    "## Проверка модели на адекватность"
   ]
  },
  {
   "cell_type": "code",
   "execution_count": 22,
   "id": "a69f7df3",
   "metadata": {},
   "outputs": [
    {
     "data": {
      "text/plain": [
       "0.8133748055987559"
      ]
     },
     "execution_count": 22,
     "metadata": {},
     "output_type": "execute_result"
    }
   ],
   "source": [
    "model = dummy.DummyClassifier(strategy='most_frequent', random_state=12345)\n",
    "model.fit(features_test_val, target_test_val)\n",
    "model.score(target_test, predictions_test)"
   ]
  },
  {
   "cell_type": "markdown",
   "id": "ae3486b8",
   "metadata": {},
   "source": [
    "## Выводы"
   ]
  },
  {
   "cell_type": "markdown",
   "id": "d6d42460",
   "metadata": {},
   "source": [
    "Итог:\n",
    "- В данном случае наиболее подходящей оказалась модель случайного леса, что, в целом, логично, так как у него более высокое качество оценки относительно других рассмотренных моделей. Так как датасет небольшой, в данном случае использование случайного леса целесообразно и не вызывает проблем, связанных с временем обработки данных;\n",
    "- Подбор гиперпараметров не помог достичь более высокой точности для других моделей, чем у леса, но немного повысил точность модели случайного леса;\n",
    "- Точность полученной модели на валидационном наборе данных 0.82, на тестовом - 0.78, что согласуется и больше 0.75\n",
    "- Фиктивный классификатор предсказывает лучше модели"
   ]
  }
 ],
 "metadata": {
  "kernelspec": {
   "display_name": "Python 3 (ipykernel)",
   "language": "python",
   "name": "python3"
  },
  "language_info": {
   "codemirror_mode": {
    "name": "ipython",
    "version": 3
   },
   "file_extension": ".py",
   "mimetype": "text/x-python",
   "name": "python",
   "nbconvert_exporter": "python",
   "pygments_lexer": "ipython3",
   "version": "3.9.16"
  }
 },
 "nbformat": 4,
 "nbformat_minor": 5
}
