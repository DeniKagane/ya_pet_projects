{
 "cells": [
  {
   "cell_type": "markdown",
   "metadata": {},
   "source": [
    "# Проект для «Викишоп»"
   ]
  },
  {
   "cell_type": "markdown",
   "metadata": {},
   "source": [
    "Интернет-магазин запускает новый сервис. Теперь пользователи могут редактировать и дополнять описания товаров, как в вики-сообществах. То есть клиенты предлагают свои правки и комментируют изменения других. Магазину нужен инструмент, который будет искать токсичные комментарии и отправлять их на модерацию. \n",
    "\n",
    "Нужно обучить модель классифицировать комментарии на позитивные и негативные. В вашем распоряжении набор данных с разметкой о токсичности правок.\n",
    "\n",
    "Значение метрики качества *F1* должно быть не меньше 0.75. \n",
    "\n",
    "Данные находятся в файле `toxic_comments.csv`. Столбец *text* в нём содержит текст комментария, а *toxic* — целевой признак."
   ]
  },
  {
   "cell_type": "markdown",
   "metadata": {},
   "source": [
    "## Подготовка"
   ]
  },
  {
   "cell_type": "code",
   "execution_count": 1,
   "metadata": {},
   "outputs": [
    {
     "name": "stdout",
     "output_type": "stream",
     "text": [
      "Requirement already satisfied: lightgbm in /opt/conda/lib/python3.9/site-packages (3.3.1)\n",
      "Requirement already satisfied: numpy in /opt/conda/lib/python3.9/site-packages (from lightgbm) (1.21.1)\n",
      "Requirement already satisfied: wheel in /opt/conda/lib/python3.9/site-packages (from lightgbm) (0.36.2)\n",
      "Requirement already satisfied: scipy in /opt/conda/lib/python3.9/site-packages (from lightgbm) (1.9.1)\n",
      "Requirement already satisfied: scikit-learn!=0.22.0 in /opt/conda/lib/python3.9/site-packages (from lightgbm) (0.24.1)\n",
      "Requirement already satisfied: threadpoolctl>=2.0.0 in /opt/conda/lib/python3.9/site-packages (from scikit-learn!=0.22.0->lightgbm) (3.1.0)\n",
      "Requirement already satisfied: joblib>=0.11 in /opt/conda/lib/python3.9/site-packages (from scikit-learn!=0.22.0->lightgbm) (1.1.0)\n",
      "Note: you may need to restart the kernel to use updated packages.\n"
     ]
    }
   ],
   "source": [
    "pip install lightgbm"
   ]
  },
  {
   "cell_type": "code",
   "execution_count": 2,
   "metadata": {},
   "outputs": [],
   "source": [
    "import pandas as pd\n",
    "import numpy as np\n",
    "import torch\n",
    "import transformers\n",
    "import re\n",
    "from tqdm import notebook\n",
    "import nltk\n",
    "from nltk.stem import WordNetLemmatizer \n",
    "from sklearn.model_selection import train_test_split\n",
    "from sklearn.feature_extraction.text import TfidfVectorizer\n",
    "from nltk.corpus import stopwords as nltk_stopwords"
   ]
  },
  {
   "cell_type": "code",
   "execution_count": 3,
   "metadata": {},
   "outputs": [],
   "source": [
    "from sklearn.pipeline import Pipeline, make_pipeline\n",
    "from sklearn.ensemble import RandomForestClassifier\n",
    "from sklearn.linear_model import LogisticRegression\n",
    "from sklearn.neighbors import KNeighborsClassifier\n",
    "import lightgbm as lgb\n",
    "from sklearn.model_selection import GridSearchCV\n",
    "from sklearn.ensemble import GradientBoostingClassifier\n",
    "from sklearn.metrics import f1_score"
   ]
  },
  {
   "cell_type": "code",
   "execution_count": 4,
   "metadata": {},
   "outputs": [],
   "source": [
    "rand=12345"
   ]
  },
  {
   "cell_type": "code",
   "execution_count": 5,
   "metadata": {},
   "outputs": [],
   "source": [
    "data = pd.read_csv('https://code.s3.yandex.net/datasets/toxic_comments.csv').drop('Unnamed: 0', axis=1)"
   ]
  },
  {
   "cell_type": "code",
   "execution_count": 6,
   "metadata": {},
   "outputs": [
    {
     "data": {
      "text/html": [
       "<div>\n",
       "<style scoped>\n",
       "    .dataframe tbody tr th:only-of-type {\n",
       "        vertical-align: middle;\n",
       "    }\n",
       "\n",
       "    .dataframe tbody tr th {\n",
       "        vertical-align: top;\n",
       "    }\n",
       "\n",
       "    .dataframe thead th {\n",
       "        text-align: right;\n",
       "    }\n",
       "</style>\n",
       "<table border=\"1\" class=\"dataframe\">\n",
       "  <thead>\n",
       "    <tr style=\"text-align: right;\">\n",
       "      <th></th>\n",
       "      <th>text</th>\n",
       "      <th>toxic</th>\n",
       "    </tr>\n",
       "  </thead>\n",
       "  <tbody>\n",
       "    <tr>\n",
       "      <th>0</th>\n",
       "      <td>Explanation\\nWhy the edits made under my usern...</td>\n",
       "      <td>0</td>\n",
       "    </tr>\n",
       "    <tr>\n",
       "      <th>1</th>\n",
       "      <td>D'aww! He matches this background colour I'm s...</td>\n",
       "      <td>0</td>\n",
       "    </tr>\n",
       "    <tr>\n",
       "      <th>2</th>\n",
       "      <td>Hey man, I'm really not trying to edit war. It...</td>\n",
       "      <td>0</td>\n",
       "    </tr>\n",
       "    <tr>\n",
       "      <th>3</th>\n",
       "      <td>\"\\nMore\\nI can't make any real suggestions on ...</td>\n",
       "      <td>0</td>\n",
       "    </tr>\n",
       "    <tr>\n",
       "      <th>4</th>\n",
       "      <td>You, sir, are my hero. Any chance you remember...</td>\n",
       "      <td>0</td>\n",
       "    </tr>\n",
       "    <tr>\n",
       "      <th>...</th>\n",
       "      <td>...</td>\n",
       "      <td>...</td>\n",
       "    </tr>\n",
       "    <tr>\n",
       "      <th>159287</th>\n",
       "      <td>\":::::And for the second time of asking, when ...</td>\n",
       "      <td>0</td>\n",
       "    </tr>\n",
       "    <tr>\n",
       "      <th>159288</th>\n",
       "      <td>You should be ashamed of yourself \\n\\nThat is ...</td>\n",
       "      <td>0</td>\n",
       "    </tr>\n",
       "    <tr>\n",
       "      <th>159289</th>\n",
       "      <td>Spitzer \\n\\nUmm, theres no actual article for ...</td>\n",
       "      <td>0</td>\n",
       "    </tr>\n",
       "    <tr>\n",
       "      <th>159290</th>\n",
       "      <td>And it looks like it was actually you who put ...</td>\n",
       "      <td>0</td>\n",
       "    </tr>\n",
       "    <tr>\n",
       "      <th>159291</th>\n",
       "      <td>\"\\nAnd ... I really don't think you understand...</td>\n",
       "      <td>0</td>\n",
       "    </tr>\n",
       "  </tbody>\n",
       "</table>\n",
       "<p>159292 rows × 2 columns</p>\n",
       "</div>"
      ],
      "text/plain": [
       "                                                     text  toxic\n",
       "0       Explanation\\nWhy the edits made under my usern...      0\n",
       "1       D'aww! He matches this background colour I'm s...      0\n",
       "2       Hey man, I'm really not trying to edit war. It...      0\n",
       "3       \"\\nMore\\nI can't make any real suggestions on ...      0\n",
       "4       You, sir, are my hero. Any chance you remember...      0\n",
       "...                                                   ...    ...\n",
       "159287  \":::::And for the second time of asking, when ...      0\n",
       "159288  You should be ashamed of yourself \\n\\nThat is ...      0\n",
       "159289  Spitzer \\n\\nUmm, theres no actual article for ...      0\n",
       "159290  And it looks like it was actually you who put ...      0\n",
       "159291  \"\\nAnd ... I really don't think you understand...      0\n",
       "\n",
       "[159292 rows x 2 columns]"
      ]
     },
     "execution_count": 6,
     "metadata": {},
     "output_type": "execute_result"
    }
   ],
   "source": [
    "data"
   ]
  },
  {
   "cell_type": "markdown",
   "metadata": {},
   "source": [
    "Загрузим словарь"
   ]
  },
  {
   "cell_type": "code",
   "execution_count": 7,
   "metadata": {},
   "outputs": [
    {
     "name": "stderr",
     "output_type": "stream",
     "text": [
      "[nltk_data] Downloading package wordnet to /home/jovyan/nltk_data...\n",
      "[nltk_data]   Package wordnet is already up-to-date!\n",
      "[nltk_data] Downloading package averaged_perceptron_tagger to\n",
      "[nltk_data]     /home/jovyan/nltk_data...\n",
      "[nltk_data]   Package averaged_perceptron_tagger is already up-to-\n",
      "[nltk_data]       date!\n"
     ]
    }
   ],
   "source": [
    "nltk.download('wordnet')\n",
    "nltk.download('averaged_perceptron_tagger')\n",
    "from nltk.corpus import wordnet"
   ]
  },
  {
   "cell_type": "markdown",
   "metadata": {},
   "source": [
    "Подготовим функции для лемматизации и очистки текста"
   ]
  },
  {
   "cell_type": "code",
   "execution_count": 8,
   "metadata": {},
   "outputs": [],
   "source": [
    "def get_wordnet_pos(word):\n",
    "    \"\"\"Map POS tag to first character lemmatize() accepts\"\"\"\n",
    "    tag = nltk.pos_tag([word])[0][1][0].upper()\n",
    "    tag_dict = {\"J\": wordnet.ADJ,\n",
    "                \"N\": wordnet.NOUN,\n",
    "                \"V\": wordnet.VERB,\n",
    "                \"R\": wordnet.ADV}\n",
    "    return tag_dict.get(tag, wordnet.NOUN)"
   ]
  },
  {
   "cell_type": "code",
   "execution_count": 9,
   "metadata": {},
   "outputs": [],
   "source": [
    "def lemmatize(text):\n",
    "    m = WordNetLemmatizer()\n",
    "    word_list = nltk.word_tokenize(text)\n",
    "    lemm_text = \" \".join([m.lemmatize(w, get_wordnet_pos(w)) for w in word_list])\n",
    "    return lemm_text"
   ]
  },
  {
   "cell_type": "code",
   "execution_count": 10,
   "metadata": {},
   "outputs": [],
   "source": [
    "def clear_text(text):\n",
    "    return \" \".join(re.sub(r'[^a-zA-Z]', ' ', text).split())"
   ]
  },
  {
   "cell_type": "code",
   "execution_count": 11,
   "metadata": {},
   "outputs": [],
   "source": [
    "from tqdm.notebook import tqdm\n",
    "tqdm.pandas()"
   ]
  },
  {
   "cell_type": "markdown",
   "metadata": {},
   "source": [
    "Лемматизируем и очистим текст"
   ]
  },
  {
   "cell_type": "code",
   "execution_count": 12,
   "metadata": {},
   "outputs": [
    {
     "data": {
      "application/vnd.jupyter.widget-view+json": {
       "model_id": "c1e78d80f6094c85b24a666c9afb63b6",
       "version_major": 2,
       "version_minor": 0
      },
      "text/plain": [
       "  0%|          | 0/159292 [00:00<?, ?it/s]"
      ]
     },
     "metadata": {},
     "output_type": "display_data"
    }
   ],
   "source": [
    "data['text'] = data['text'].progress_apply(lambda x: lemmatize(x))"
   ]
  },
  {
   "cell_type": "code",
   "execution_count": 13,
   "metadata": {},
   "outputs": [
    {
     "data": {
      "application/vnd.jupyter.widget-view+json": {
       "model_id": "99ba55c26ae9430582544784b8b47fe6",
       "version_major": 2,
       "version_minor": 0
      },
      "text/plain": [
       "  0%|          | 0/159292 [00:00<?, ?it/s]"
      ]
     },
     "metadata": {},
     "output_type": "display_data"
    }
   ],
   "source": [
    "data['text'] = data['text'].progress_apply(lambda x: clear_text(x))"
   ]
  },
  {
   "cell_type": "code",
   "execution_count": 14,
   "metadata": {},
   "outputs": [
    {
     "data": {
      "text/html": [
       "<div>\n",
       "<style scoped>\n",
       "    .dataframe tbody tr th:only-of-type {\n",
       "        vertical-align: middle;\n",
       "    }\n",
       "\n",
       "    .dataframe tbody tr th {\n",
       "        vertical-align: top;\n",
       "    }\n",
       "\n",
       "    .dataframe thead th {\n",
       "        text-align: right;\n",
       "    }\n",
       "</style>\n",
       "<table border=\"1\" class=\"dataframe\">\n",
       "  <thead>\n",
       "    <tr style=\"text-align: right;\">\n",
       "      <th></th>\n",
       "      <th>text</th>\n",
       "      <th>toxic</th>\n",
       "    </tr>\n",
       "  </thead>\n",
       "  <tbody>\n",
       "    <tr>\n",
       "      <th>0</th>\n",
       "      <td>Explanation Why the edits make under my userna...</td>\n",
       "      <td>0</td>\n",
       "    </tr>\n",
       "    <tr>\n",
       "      <th>1</th>\n",
       "      <td>D aww He match this background colour I m seem...</td>\n",
       "      <td>0</td>\n",
       "    </tr>\n",
       "    <tr>\n",
       "      <th>2</th>\n",
       "      <td>Hey man I m really not try to edit war It s ju...</td>\n",
       "      <td>0</td>\n",
       "    </tr>\n",
       "    <tr>\n",
       "      <th>3</th>\n",
       "      <td>More I ca n t make any real suggestion on impr...</td>\n",
       "      <td>0</td>\n",
       "    </tr>\n",
       "    <tr>\n",
       "      <th>4</th>\n",
       "      <td>You sir be my hero Any chance you remember wha...</td>\n",
       "      <td>0</td>\n",
       "    </tr>\n",
       "    <tr>\n",
       "      <th>...</th>\n",
       "      <td>...</td>\n",
       "      <td>...</td>\n",
       "    </tr>\n",
       "    <tr>\n",
       "      <th>159287</th>\n",
       "      <td>And for the second time of ask when your view ...</td>\n",
       "      <td>0</td>\n",
       "    </tr>\n",
       "    <tr>\n",
       "      <th>159288</th>\n",
       "      <td>You should be ashamed of yourself That be a ho...</td>\n",
       "      <td>0</td>\n",
       "    </tr>\n",
       "    <tr>\n",
       "      <th>159289</th>\n",
       "      <td>Spitzer Umm there no actual article for prosti...</td>\n",
       "      <td>0</td>\n",
       "    </tr>\n",
       "    <tr>\n",
       "      <th>159290</th>\n",
       "      <td>And it look like it be actually you who put on...</td>\n",
       "      <td>0</td>\n",
       "    </tr>\n",
       "    <tr>\n",
       "      <th>159291</th>\n",
       "      <td>And I really do n t think you understand I com...</td>\n",
       "      <td>0</td>\n",
       "    </tr>\n",
       "  </tbody>\n",
       "</table>\n",
       "<p>159292 rows × 2 columns</p>\n",
       "</div>"
      ],
      "text/plain": [
       "                                                     text  toxic\n",
       "0       Explanation Why the edits make under my userna...      0\n",
       "1       D aww He match this background colour I m seem...      0\n",
       "2       Hey man I m really not try to edit war It s ju...      0\n",
       "3       More I ca n t make any real suggestion on impr...      0\n",
       "4       You sir be my hero Any chance you remember wha...      0\n",
       "...                                                   ...    ...\n",
       "159287  And for the second time of ask when your view ...      0\n",
       "159288  You should be ashamed of yourself That be a ho...      0\n",
       "159289  Spitzer Umm there no actual article for prosti...      0\n",
       "159290  And it look like it be actually you who put on...      0\n",
       "159291  And I really do n t think you understand I com...      0\n",
       "\n",
       "[159292 rows x 2 columns]"
      ]
     },
     "execution_count": 14,
     "metadata": {},
     "output_type": "execute_result"
    }
   ],
   "source": [
    "data"
   ]
  },
  {
   "cell_type": "code",
   "execution_count": 15,
   "metadata": {},
   "outputs": [
    {
     "name": "stdout",
     "output_type": "stream",
     "text": [
      "Requirement already satisfied: wordcloud in /opt/conda/lib/python3.9/site-packages (1.9.2)\r\n",
      "Requirement already satisfied: pillow in /opt/conda/lib/python3.9/site-packages (from wordcloud) (10.0.0)\r\n",
      "Requirement already satisfied: numpy>=1.6.1 in /opt/conda/lib/python3.9/site-packages (from wordcloud) (1.21.1)\r\n",
      "Requirement already satisfied: matplotlib in /opt/conda/lib/python3.9/site-packages (from wordcloud) (3.3.4)\r\n",
      "Requirement already satisfied: pyparsing!=2.0.4,!=2.1.2,!=2.1.6,>=2.0.3 in /opt/conda/lib/python3.9/site-packages (from matplotlib->wordcloud) (2.4.7)\r\n",
      "Requirement already satisfied: cycler>=0.10 in /opt/conda/lib/python3.9/site-packages (from matplotlib->wordcloud) (0.11.0)\r\n",
      "Requirement already satisfied: python-dateutil>=2.1 in /opt/conda/lib/python3.9/site-packages (from matplotlib->wordcloud) (2.8.1)\r\n",
      "Requirement already satisfied: kiwisolver>=1.0.1 in /opt/conda/lib/python3.9/site-packages (from matplotlib->wordcloud) (1.4.4)\r\n",
      "Requirement already satisfied: six>=1.5 in /opt/conda/lib/python3.9/site-packages (from python-dateutil>=2.1->matplotlib->wordcloud) (1.16.0)\r\n"
     ]
    }
   ],
   "source": [
    "!/opt/conda/bin/python -m pip install wordcloud "
   ]
  },
  {
   "cell_type": "code",
   "execution_count": 16,
   "metadata": {},
   "outputs": [
    {
     "name": "stdout",
     "output_type": "stream",
     "text": [
      "Requirement already satisfied: Pillow in /opt/conda/lib/python3.9/site-packages (10.0.0)\r\n"
     ]
    }
   ],
   "source": [
    "!pip install --upgrade Pillow"
   ]
  },
  {
   "cell_type": "code",
   "execution_count": 17,
   "metadata": {},
   "outputs": [],
   "source": [
    "from wordcloud import WordCloud\n",
    "import matplotlib.pyplot as plt\n",
    "%matplotlib inline"
   ]
  },
  {
   "cell_type": "code",
   "execution_count": 18,
   "metadata": {
    "scrolled": true
   },
   "outputs": [
    {
     "name": "stderr",
     "output_type": "stream",
     "text": [
      "[nltk_data] Downloading package stopwords to /home/jovyan/nltk_data...\n",
      "[nltk_data]   Package stopwords is already up-to-date!\n"
     ]
    }
   ],
   "source": [
    "nltk.download('stopwords')\n",
    "stopwords = set(nltk_stopwords.words('english'))"
   ]
  },
  {
   "cell_type": "code",
   "execution_count": 19,
   "metadata": {},
   "outputs": [
    {
     "data": {
      "image/png": "[encoded data removed]",
      "text/plain": [
       "<Figure size 864x576 with 1 Axes>"
      ]
     },
     "metadata": {
      "needs_background": "light"
     },
     "output_type": "display_data"
    }
   ],
   "source": [
    "df_negative = data[data['toxic'] == 1]\n",
    "text_cloud = ' '.join(df_negative['text'])\n",
    "cloud = WordCloud(stopwords=stopwords, max_words=80, collocations=False).generate(text_cloud)\n",
    "plt.figure(figsize=(12,8))\n",
    "plt.imshow(cloud)\n",
    "plt.axis('off')\n",
    "plt.show()   "
   ]
  },
  {
   "cell_type": "markdown",
   "metadata": {},
   "source": [
    "В токсичных комментариях наиболее популярны ругательства"
   ]
  },
  {
   "cell_type": "markdown",
   "metadata": {},
   "source": [
    "Сделаем словарь стоп-слов"
   ]
  },
  {
   "cell_type": "markdown",
   "metadata": {},
   "source": [
    "Рассчитаем TF-IDF для текстов"
   ]
  },
  {
   "cell_type": "code",
   "execution_count": 20,
   "metadata": {},
   "outputs": [],
   "source": [
    "data_train, data_test = train_test_split(data, test_size=0.25, random_state=rand, stratify=data['toxic'])"
   ]
  },
  {
   "cell_type": "code",
   "execution_count": 21,
   "metadata": {},
   "outputs": [],
   "source": [
    "features_train = data_train['text']\n",
    "target_train = data_train['toxic']\n",
    "features_test = data_test['text']\n",
    "target_test = data_test['toxic']"
   ]
  },
  {
   "cell_type": "markdown",
   "metadata": {},
   "source": [
    "## Обучение"
   ]
  },
  {
   "cell_type": "markdown",
   "metadata": {},
   "source": [
    "Рассмотрим несколько моделей классификации и выберем лучшую через пайплайн"
   ]
  },
  {
   "cell_type": "code",
   "execution_count": 22,
   "metadata": {},
   "outputs": [
    {
     "name": "stdout",
     "output_type": "stream",
     "text": [
      "Fitting 3 folds for each of 4 candidates, totalling 12 fits\n",
      "[CV 1/3] END .....model__max_depth=5, model__n_estimators=50; total time=   7.0s\n",
      "[CV 2/3] END .....model__max_depth=5, model__n_estimators=50; total time=   7.5s\n",
      "[CV 3/3] END .....model__max_depth=5, model__n_estimators=50; total time=   7.4s\n",
      "[CV 1/3] END ....model__max_depth=5, model__n_estimators=100; total time=   8.3s\n",
      "[CV 2/3] END ....model__max_depth=5, model__n_estimators=100; total time=   8.1s\n",
      "[CV 3/3] END ....model__max_depth=5, model__n_estimators=100; total time=   8.4s\n",
      "[CV 1/3] END ....model__max_depth=10, model__n_estimators=50; total time=   7.9s\n",
      "[CV 2/3] END ....model__max_depth=10, model__n_estimators=50; total time=   7.7s\n",
      "[CV 3/3] END ....model__max_depth=10, model__n_estimators=50; total time=   7.9s\n",
      "[CV 1/3] END ...model__max_depth=10, model__n_estimators=100; total time=   9.6s\n",
      "[CV 2/3] END ...model__max_depth=10, model__n_estimators=100; total time=   9.4s\n",
      "[CV 3/3] END ...model__max_depth=10, model__n_estimators=100; total time=   9.3s\n",
      "Лучшая Метрика на кросс валидации 0.3655472345732727\n"
     ]
    }
   ],
   "source": [
    "params_1={'model__n_estimators':[50, 100],\n",
    "            'model__max_depth':[5, 10]}\n",
    "pipeline_1 = Pipeline([\n",
    "    ('tfidf', TfidfVectorizer(stop_words=stopwords)),\n",
    "\n",
    "    ('model', RandomForestClassifier(random_state=rand, class_weight='balanced'))\n",
    "\n",
    "    ])\n",
    "\n",
    "\n",
    "grid_pipeline_1 = GridSearchCV(pipeline_1, cv=3, param_grid=params_1, scoring='f1', verbose=5)\n",
    "grid_pipeline_1.fit(features_train, target_train)\n",
    "print(f'Лучшая Метрика на кросс валидации {grid_pipeline_1.best_score_}')"
   ]
  },
  {
   "cell_type": "code",
   "execution_count": 23,
   "metadata": {},
   "outputs": [
    {
     "name": "stdout",
     "output_type": "stream",
     "text": [
      "Fitting 3 folds for each of 4 candidates, totalling 12 fits\n",
      "[CV 1/3] END ...................................model__C=0.1; total time=  28.7s\n",
      "[CV 2/3] END ...................................model__C=0.1; total time=  25.8s\n",
      "[CV 3/3] END ...................................model__C=0.1; total time=  22.9s\n",
      "[CV 1/3] END ...................................model__C=0.5; total time=  39.0s\n",
      "[CV 2/3] END ...................................model__C=0.5; total time=  41.4s\n",
      "[CV 3/3] END ...................................model__C=0.5; total time=  42.6s\n",
      "[CV 1/3] END .....................................model__C=1; total time=  48.8s\n"
     ]
    },
    {
     "name": "stderr",
     "output_type": "stream",
     "text": [
      "/opt/conda/lib/python3.9/site-packages/sklearn/linear_model/_logistic.py:763: ConvergenceWarning: lbfgs failed to converge (status=1):\n",
      "STOP: TOTAL NO. of ITERATIONS REACHED LIMIT.\n",
      "\n",
      "Increase the number of iterations (max_iter) or scale the data as shown in:\n",
      "    https://scikit-learn.org/stable/modules/preprocessing.html\n",
      "Please also refer to the documentation for alternative solver options:\n",
      "    https://scikit-learn.org/stable/modules/linear_model.html#logistic-regression\n",
      "  n_iter_i = _check_optimize_result(\n"
     ]
    },
    {
     "name": "stdout",
     "output_type": "stream",
     "text": [
      "[CV 2/3] END .....................................model__C=1; total time=  46.1s\n",
      "[CV 3/3] END .....................................model__C=1; total time=  45.3s\n"
     ]
    },
    {
     "name": "stderr",
     "output_type": "stream",
     "text": [
      "/opt/conda/lib/python3.9/site-packages/sklearn/linear_model/_logistic.py:763: ConvergenceWarning: lbfgs failed to converge (status=1):\n",
      "STOP: TOTAL NO. of ITERATIONS REACHED LIMIT.\n",
      "\n",
      "Increase the number of iterations (max_iter) or scale the data as shown in:\n",
      "    https://scikit-learn.org/stable/modules/preprocessing.html\n",
      "Please also refer to the documentation for alternative solver options:\n",
      "    https://scikit-learn.org/stable/modules/linear_model.html#logistic-regression\n",
      "  n_iter_i = _check_optimize_result(\n"
     ]
    },
    {
     "name": "stdout",
     "output_type": "stream",
     "text": [
      "[CV 1/3] END .....................................model__C=5; total time=  46.9s\n"
     ]
    },
    {
     "name": "stderr",
     "output_type": "stream",
     "text": [
      "/opt/conda/lib/python3.9/site-packages/sklearn/linear_model/_logistic.py:763: ConvergenceWarning: lbfgs failed to converge (status=1):\n",
      "STOP: TOTAL NO. of ITERATIONS REACHED LIMIT.\n",
      "\n",
      "Increase the number of iterations (max_iter) or scale the data as shown in:\n",
      "    https://scikit-learn.org/stable/modules/preprocessing.html\n",
      "Please also refer to the documentation for alternative solver options:\n",
      "    https://scikit-learn.org/stable/modules/linear_model.html#logistic-regression\n",
      "  n_iter_i = _check_optimize_result(\n"
     ]
    },
    {
     "name": "stdout",
     "output_type": "stream",
     "text": [
      "[CV 2/3] END .....................................model__C=5; total time=  48.4s\n"
     ]
    },
    {
     "name": "stderr",
     "output_type": "stream",
     "text": [
      "/opt/conda/lib/python3.9/site-packages/sklearn/linear_model/_logistic.py:763: ConvergenceWarning: lbfgs failed to converge (status=1):\n",
      "STOP: TOTAL NO. of ITERATIONS REACHED LIMIT.\n",
      "\n",
      "Increase the number of iterations (max_iter) or scale the data as shown in:\n",
      "    https://scikit-learn.org/stable/modules/preprocessing.html\n",
      "Please also refer to the documentation for alternative solver options:\n",
      "    https://scikit-learn.org/stable/modules/linear_model.html#logistic-regression\n",
      "  n_iter_i = _check_optimize_result(\n"
     ]
    },
    {
     "name": "stdout",
     "output_type": "stream",
     "text": [
      "[CV 3/3] END .....................................model__C=5; total time=  46.1s\n",
      "Лучшая Метрика на кросс валидации 0.7590132210740599\n"
     ]
    },
    {
     "name": "stderr",
     "output_type": "stream",
     "text": [
      "/opt/conda/lib/python3.9/site-packages/sklearn/linear_model/_logistic.py:763: ConvergenceWarning: lbfgs failed to converge (status=1):\n",
      "STOP: TOTAL NO. of ITERATIONS REACHED LIMIT.\n",
      "\n",
      "Increase the number of iterations (max_iter) or scale the data as shown in:\n",
      "    https://scikit-learn.org/stable/modules/preprocessing.html\n",
      "Please also refer to the documentation for alternative solver options:\n",
      "    https://scikit-learn.org/stable/modules/linear_model.html#logistic-regression\n",
      "  n_iter_i = _check_optimize_result(\n"
     ]
    }
   ],
   "source": [
    "params_2={'model__C':[.1,.5,1,5]\n",
    "            }\n",
    "pipeline_2 = Pipeline([\n",
    "    ('tfidf', TfidfVectorizer(stop_words=stopwords)),\n",
    "\n",
    "    ('model', LogisticRegression(random_state = rand))\n",
    "\n",
    "    ])\n",
    "\n",
    "\n",
    "grid_pipeline_2 = GridSearchCV(pipeline_2, cv=3, param_grid=params_2, scoring='f1', verbose=5)\n",
    "grid_pipeline_2.fit(features_train, target_train)\n",
    "print(f'Лучшая Метрика на кросс валидации {grid_pipeline_2.best_score_}')"
   ]
  },
  {
   "cell_type": "code",
   "execution_count": 24,
   "metadata": {},
   "outputs": [
    {
     "name": "stdout",
     "output_type": "stream",
     "text": [
      "Fitting 3 folds for each of 4 candidates, totalling 12 fits\n",
      "[CV 1/3] END .....model__max_depth=5, model__n_estimators=50; total time=  42.6s\n",
      "[CV 2/3] END .....model__max_depth=5, model__n_estimators=50; total time=  42.3s\n",
      "[CV 3/3] END .....model__max_depth=5, model__n_estimators=50; total time=  44.3s\n",
      "[CV 1/3] END ....model__max_depth=5, model__n_estimators=100; total time= 1.0min\n",
      "[CV 2/3] END ....model__max_depth=5, model__n_estimators=100; total time=  58.8s\n",
      "[CV 3/3] END ....model__max_depth=5, model__n_estimators=100; total time=  57.9s\n",
      "[CV 1/3] END ....model__max_depth=10, model__n_estimators=50; total time=  50.8s\n",
      "[CV 2/3] END ....model__max_depth=10, model__n_estimators=50; total time=  53.8s\n",
      "[CV 3/3] END ....model__max_depth=10, model__n_estimators=50; total time=  55.3s\n",
      "[CV 1/3] END ...model__max_depth=10, model__n_estimators=100; total time= 1.4min\n",
      "[CV 2/3] END ...model__max_depth=10, model__n_estimators=100; total time= 1.4min\n",
      "[CV 3/3] END ...model__max_depth=10, model__n_estimators=100; total time= 1.4min\n",
      "Лучшая Метрика на кросс валидации 0.4699454369797654\n"
     ]
    }
   ],
   "source": [
    "params_3={'model__n_estimators':[50, 100],\n",
    "            'model__max_depth':[5, 10]}\n",
    "pipeline_3 = Pipeline([\n",
    "    ('tfidf', TfidfVectorizer(stop_words=stopwords)),\n",
    "\n",
    "    ('model', lgb.LGBMClassifier(random_state=rand, learning_rate=0.01))\n",
    "\n",
    "    ])\n",
    "\n",
    "\n",
    "grid_pipeline_3 = GridSearchCV(pipeline_3, cv=3, param_grid=params_3, scoring='f1', verbose=5)\n",
    "grid_pipeline_3.fit(features_train, target_train)\n",
    "print(f'Лучшая Метрика на кросс валидации {grid_pipeline_3.best_score_}')"
   ]
  },
  {
   "cell_type": "markdown",
   "metadata": {},
   "source": [
    "Лучший результат на тренировочной выборке показывает LogisticRegression"
   ]
  },
  {
   "cell_type": "code",
   "execution_count": 25,
   "metadata": {},
   "outputs": [],
   "source": [
    "prediction = grid_pipeline_2.best_estimator_.predict(features_test)"
   ]
  },
  {
   "cell_type": "code",
   "execution_count": 26,
   "metadata": {},
   "outputs": [
    {
     "name": "stdout",
     "output_type": "stream",
     "text": [
      "F1 0.7696842105263157\n"
     ]
    }
   ],
   "source": [
    "print('F1', (f1_score(target_test, prediction)))"
   ]
  },
  {
   "cell_type": "markdown",
   "metadata": {},
   "source": [
    "Удалось достичь результата больше 0.75"
   ]
  },
  {
   "cell_type": "markdown",
   "metadata": {},
   "source": [
    "## Выводы"
   ]
  },
  {
   "cell_type": "markdown",
   "metadata": {},
   "source": [
    "- Проведена лемматизация и очистка текстов комментариев\n",
    "- В качестве признака посчитан и взят параметр TF-IDF\n",
    "- С помощью пайплайна рассмотрено несколько моделей классификации, наилучший результат показала логистическая регрессия\n",
    "- Результат на тестовой выборке - 0.769"
   ]
  }
 ],
 "metadata": {
  "ExecuteTimeLog": [
   {
    "duration": 1107,
    "start_time": "2023-07-21T20:04:34.053Z"
   },
   {
    "duration": 767,
    "start_time": "2023-07-21T20:04:45.922Z"
   },
   {
    "duration": 2227,
    "start_time": "2023-07-21T20:04:52.711Z"
   },
   {
    "duration": 2222,
    "start_time": "2023-07-21T20:05:11.096Z"
   },
   {
    "duration": 14,
    "start_time": "2023-07-21T20:05:17.687Z"
   },
   {
    "duration": 3,
    "start_time": "2023-07-21T20:08:08.958Z"
   },
   {
    "duration": 127,
    "start_time": "2023-07-21T20:09:37.764Z"
   },
   {
    "duration": 2004,
    "start_time": "2023-07-21T20:09:45.816Z"
   },
   {
    "duration": 2888,
    "start_time": "2023-07-21T20:10:44.577Z"
   },
   {
    "duration": 8,
    "start_time": "2023-07-21T20:10:47.467Z"
   },
   {
    "duration": 2316,
    "start_time": "2023-07-21T20:11:07.908Z"
   },
   {
    "duration": 7,
    "start_time": "2023-07-21T20:11:10.226Z"
   },
   {
    "duration": 55762,
    "start_time": "2023-07-21T20:12:07.306Z"
   },
   {
    "duration": 10,
    "start_time": "2023-07-21T20:13:06.236Z"
   },
   {
    "duration": 30,
    "start_time": "2023-07-21T20:14:59.240Z"
   },
   {
    "duration": 63,
    "start_time": "2023-07-21T20:15:03.636Z"
   },
   {
    "duration": 4,
    "start_time": "2023-07-21T20:15:34.318Z"
   },
   {
    "duration": 4,
    "start_time": "2023-07-21T20:16:23.783Z"
   },
   {
    "duration": 3,
    "start_time": "2023-07-21T20:16:49.997Z"
   },
   {
    "duration": 3,
    "start_time": "2023-07-21T20:17:34.219Z"
   },
   {
    "duration": 36,
    "start_time": "2023-07-21T20:17:54.370Z"
   },
   {
    "duration": 25,
    "start_time": "2023-07-21T20:18:25.829Z"
   },
   {
    "duration": 42,
    "start_time": "2023-07-21T20:19:13.498Z"
   },
   {
    "duration": 50,
    "start_time": "2023-07-21T20:19:36.507Z"
   },
   {
    "duration": 1929,
    "start_time": "2023-07-21T20:19:41.069Z"
   },
   {
    "duration": 3,
    "start_time": "2023-07-21T20:19:43.000Z"
   },
   {
    "duration": 1895,
    "start_time": "2023-07-21T20:19:43.005Z"
   },
   {
    "duration": 21,
    "start_time": "2023-07-21T20:19:44.902Z"
   },
   {
    "duration": 4,
    "start_time": "2023-07-21T20:19:44.925Z"
   },
   {
    "duration": 51,
    "start_time": "2023-07-21T20:19:54.017Z"
   },
   {
    "duration": 1999,
    "start_time": "2023-07-21T20:19:56.120Z"
   },
   {
    "duration": 3,
    "start_time": "2023-07-21T20:19:58.121Z"
   },
   {
    "duration": 1741,
    "start_time": "2023-07-21T20:19:58.125Z"
   },
   {
    "duration": 16,
    "start_time": "2023-07-21T20:19:59.868Z"
   },
   {
    "duration": 17,
    "start_time": "2023-07-21T20:19:59.886Z"
   },
   {
    "duration": 2059,
    "start_time": "2023-07-21T20:20:30.789Z"
   },
   {
    "duration": 4,
    "start_time": "2023-07-21T20:20:33.207Z"
   },
   {
    "duration": 1569,
    "start_time": "2023-07-21T20:20:33.487Z"
   },
   {
    "duration": 16,
    "start_time": "2023-07-21T20:20:35.058Z"
   },
   {
    "duration": 4,
    "start_time": "2023-07-21T20:20:35.455Z"
   },
   {
    "duration": 29,
    "start_time": "2023-07-21T20:20:36.417Z"
   },
   {
    "duration": 106,
    "start_time": "2023-07-21T20:20:48.959Z"
   },
   {
    "duration": 3,
    "start_time": "2023-07-21T20:20:52.437Z"
   },
   {
    "duration": 3,
    "start_time": "2023-07-21T20:20:52.776Z"
   },
   {
    "duration": 712,
    "start_time": "2023-07-21T20:20:53.816Z"
   },
   {
    "duration": 656,
    "start_time": "2023-07-21T20:21:08.309Z"
   },
   {
    "duration": 4,
    "start_time": "2023-07-21T20:21:10.839Z"
   },
   {
    "duration": 44,
    "start_time": "2023-07-21T20:21:43.088Z"
   },
   {
    "duration": 13,
    "start_time": "2023-07-21T20:22:12.399Z"
   },
   {
    "duration": 75,
    "start_time": "2023-07-21T20:22:23.499Z"
   },
   {
    "duration": 146994,
    "start_time": "2023-07-21T20:22:27.969Z"
   },
   {
    "duration": 844,
    "start_time": "2023-07-21T20:27:18.596Z"
   },
   {
    "duration": 3,
    "start_time": "2023-07-21T20:27:56.858Z"
   },
   {
    "duration": 3,
    "start_time": "2023-07-21T20:27:57.880Z"
   },
   {
    "duration": 2861,
    "start_time": "2023-07-21T20:27:58.766Z"
   },
   {
    "duration": 26,
    "start_time": "2023-07-21T20:28:07.290Z"
   },
   {
    "duration": 1906,
    "start_time": "2023-07-21T20:28:51.040Z"
   },
   {
    "duration": 3,
    "start_time": "2023-07-21T20:28:52.948Z"
   },
   {
    "duration": 2133,
    "start_time": "2023-07-21T20:28:52.952Z"
   },
   {
    "duration": 16,
    "start_time": "2023-07-21T20:28:55.087Z"
   },
   {
    "duration": 12,
    "start_time": "2023-07-21T20:28:55.105Z"
   },
   {
    "duration": 37,
    "start_time": "2023-07-21T20:28:55.118Z"
   },
   {
    "duration": 857,
    "start_time": "2023-07-21T20:28:55.157Z"
   },
   {
    "duration": 3,
    "start_time": "2023-07-21T20:28:56.016Z"
   },
   {
    "duration": 25,
    "start_time": "2023-07-21T20:28:56.021Z"
   },
   {
    "duration": 378,
    "start_time": "2023-07-21T20:28:56.048Z"
   },
   {
    "duration": 0,
    "start_time": "2023-07-21T20:28:56.428Z"
   },
   {
    "duration": 0,
    "start_time": "2023-07-21T20:28:56.430Z"
   },
   {
    "duration": 0,
    "start_time": "2023-07-21T20:28:56.431Z"
   },
   {
    "duration": 1944,
    "start_time": "2023-07-21T20:29:04.110Z"
   },
   {
    "duration": 3,
    "start_time": "2023-07-21T20:29:06.056Z"
   },
   {
    "duration": 2211,
    "start_time": "2023-07-21T20:29:06.061Z"
   },
   {
    "duration": 15,
    "start_time": "2023-07-21T20:29:08.274Z"
   },
   {
    "duration": 7,
    "start_time": "2023-07-21T20:29:08.291Z"
   },
   {
    "duration": 44,
    "start_time": "2023-07-21T20:29:08.300Z"
   },
   {
    "duration": 786,
    "start_time": "2023-07-21T20:29:08.346Z"
   },
   {
    "duration": 3,
    "start_time": "2023-07-21T20:29:09.134Z"
   },
   {
    "duration": 8,
    "start_time": "2023-07-21T20:29:09.138Z"
   },
   {
    "duration": 55,
    "start_time": "2023-07-21T20:29:09.148Z"
   },
   {
    "duration": 2764,
    "start_time": "2023-07-21T20:29:09.205Z"
   },
   {
    "duration": 25,
    "start_time": "2023-07-21T20:29:11.971Z"
   },
   {
    "duration": 16,
    "start_time": "2023-07-21T20:29:11.998Z"
   },
   {
    "duration": 16,
    "start_time": "2023-07-21T20:29:12.017Z"
   },
   {
    "duration": 350,
    "start_time": "2023-07-21T20:29:53.151Z"
   },
   {
    "duration": 3,
    "start_time": "2023-07-21T20:30:49.979Z"
   },
   {
    "duration": 93477,
    "start_time": "2023-07-21T20:30:56.629Z"
   },
   {
    "duration": 24,
    "start_time": "2023-07-21T20:32:34.901Z"
   },
   {
    "duration": 23,
    "start_time": "2023-07-21T20:32:51.111Z"
   },
   {
    "duration": 4,
    "start_time": "2023-07-21T20:34:31.019Z"
   },
   {
    "duration": 3,
    "start_time": "2023-07-21T20:35:32.400Z"
   },
   {
    "duration": 156,
    "start_time": "2023-07-21T20:35:39.220Z"
   },
   {
    "duration": 4,
    "start_time": "2023-07-21T20:36:56.380Z"
   },
   {
    "duration": 5,
    "start_time": "2023-07-21T20:36:57.982Z"
   },
   {
    "duration": 4,
    "start_time": "2023-07-21T20:38:21.000Z"
   },
   {
    "duration": 6,
    "start_time": "2023-07-21T20:38:28.430Z"
   },
   {
    "duration": 5,
    "start_time": "2023-07-21T20:38:39.889Z"
   },
   {
    "duration": 86,
    "start_time": "2023-07-21T20:39:00.369Z"
   },
   {
    "duration": 8,
    "start_time": "2023-07-21T20:39:09.723Z"
   },
   {
    "duration": 4,
    "start_time": "2023-07-21T20:39:17.932Z"
   },
   {
    "duration": 33,
    "start_time": "2023-07-21T20:39:22.590Z"
   },
   {
    "duration": 8,
    "start_time": "2023-07-21T20:40:09.369Z"
   },
   {
    "duration": 76,
    "start_time": "2023-07-21T20:41:45.369Z"
   },
   {
    "duration": 4,
    "start_time": "2023-07-21T20:41:50.329Z"
   },
   {
    "duration": 5,
    "start_time": "2023-07-21T20:41:54.571Z"
   },
   {
    "duration": 6,
    "start_time": "2023-07-21T20:41:59.651Z"
   },
   {
    "duration": 5,
    "start_time": "2023-07-21T20:42:03.741Z"
   },
   {
    "duration": 134475,
    "start_time": "2023-07-21T20:42:11.489Z"
   },
   {
    "duration": 9,
    "start_time": "2023-07-21T20:44:25.966Z"
   },
   {
    "duration": 5,
    "start_time": "2023-07-21T20:46:20.639Z"
   },
   {
    "duration": 4,
    "start_time": "2023-07-21T20:46:34.501Z"
   },
   {
    "duration": 3,
    "start_time": "2023-07-21T20:46:43.690Z"
   },
   {
    "duration": 4,
    "start_time": "2023-07-21T20:46:46.861Z"
   },
   {
    "duration": 4112,
    "start_time": "2023-07-21T20:47:02.501Z"
   },
   {
    "duration": 10,
    "start_time": "2023-07-21T20:47:14.419Z"
   },
   {
    "duration": 1969,
    "start_time": "2023-07-21T20:47:54.749Z"
   },
   {
    "duration": 3,
    "start_time": "2023-07-21T20:47:56.720Z"
   },
   {
    "duration": 2190,
    "start_time": "2023-07-21T20:47:56.725Z"
   },
   {
    "duration": 17,
    "start_time": "2023-07-21T20:47:58.917Z"
   },
   {
    "duration": 4,
    "start_time": "2023-07-21T20:47:58.937Z"
   },
   {
    "duration": 35,
    "start_time": "2023-07-21T20:47:58.942Z"
   },
   {
    "duration": 1078,
    "start_time": "2023-07-21T20:47:58.978Z"
   },
   {
    "duration": 0,
    "start_time": "2023-07-21T20:48:00.058Z"
   },
   {
    "duration": 0,
    "start_time": "2023-07-21T20:48:00.059Z"
   },
   {
    "duration": 0,
    "start_time": "2023-07-21T20:48:00.060Z"
   },
   {
    "duration": 0,
    "start_time": "2023-07-21T20:48:00.061Z"
   },
   {
    "duration": 0,
    "start_time": "2023-07-21T20:48:00.062Z"
   },
   {
    "duration": 0,
    "start_time": "2023-07-21T20:48:00.063Z"
   },
   {
    "duration": 0,
    "start_time": "2023-07-21T20:48:00.064Z"
   },
   {
    "duration": 0,
    "start_time": "2023-07-21T20:48:00.065Z"
   },
   {
    "duration": 2734,
    "start_time": "2023-07-21T20:48:27.196Z"
   },
   {
    "duration": 1907,
    "start_time": "2023-07-21T20:48:29.932Z"
   },
   {
    "duration": 18,
    "start_time": "2023-07-21T20:48:31.842Z"
   },
   {
    "duration": 205,
    "start_time": "2023-07-21T20:48:31.862Z"
   },
   {
    "duration": 246,
    "start_time": "2023-07-21T20:48:32.070Z"
   },
   {
    "duration": 4,
    "start_time": "2023-07-21T20:48:32.317Z"
   },
   {
    "duration": 29,
    "start_time": "2023-07-21T20:48:32.323Z"
   },
   {
    "duration": 129112,
    "start_time": "2023-07-21T20:48:32.355Z"
   },
   {
    "duration": 4103,
    "start_time": "2023-07-21T20:50:41.469Z"
   },
   {
    "duration": 10,
    "start_time": "2023-07-21T20:50:45.574Z"
   },
   {
    "duration": 26,
    "start_time": "2023-07-21T20:50:45.585Z"
   },
   {
    "duration": 17,
    "start_time": "2023-07-21T20:50:45.613Z"
   },
   {
    "duration": 498,
    "start_time": "2023-07-21T20:50:50.406Z"
   },
   {
    "duration": 1823,
    "start_time": "2023-07-21T20:50:56.438Z"
   },
   {
    "duration": 204876,
    "start_time": "2023-07-21T20:50:58.263Z"
   },
   {
    "duration": 9,
    "start_time": "2023-07-21T20:54:58.624Z"
   },
   {
    "duration": 169,
    "start_time": "2023-07-21T20:56:33.536Z"
   },
   {
    "duration": 23,
    "start_time": "2023-07-21T20:56:42.907Z"
   },
   {
    "duration": 4,
    "start_time": "2023-07-21T20:56:48.476Z"
   },
   {
    "duration": 18,
    "start_time": "2023-07-21T20:57:33.670Z"
   },
   {
    "duration": 2639,
    "start_time": "2023-07-21T20:59:40.860Z"
   },
   {
    "duration": 1897,
    "start_time": "2023-07-21T20:59:43.502Z"
   },
   {
    "duration": 20,
    "start_time": "2023-07-21T20:59:45.401Z"
   },
   {
    "duration": 228,
    "start_time": "2023-07-21T20:59:45.422Z"
   },
   {
    "duration": 4,
    "start_time": "2023-07-21T20:59:45.652Z"
   },
   {
    "duration": 11,
    "start_time": "2023-07-21T20:59:45.658Z"
   },
   {
    "duration": 126812,
    "start_time": "2023-07-21T20:59:45.670Z"
   },
   {
    "duration": 4104,
    "start_time": "2023-07-21T21:01:52.483Z"
   },
   {
    "duration": 10,
    "start_time": "2023-07-21T21:01:56.589Z"
   },
   {
    "duration": 1696,
    "start_time": "2023-07-21T21:01:56.601Z"
   },
   {
    "duration": 205444,
    "start_time": "2023-07-21T21:01:58.299Z"
   },
   {
    "duration": 11,
    "start_time": "2023-07-21T21:05:48.452Z"
   },
   {
    "duration": 4,
    "start_time": "2023-07-21T21:05:53.262Z"
   },
   {
    "duration": 6,
    "start_time": "2023-07-21T21:05:58.152Z"
   },
   {
    "duration": 185,
    "start_time": "2023-07-21T21:06:18.020Z"
   },
   {
    "duration": 11044,
    "start_time": "2023-07-21T21:06:18.633Z"
   },
   {
    "duration": 215667,
    "start_time": "2023-07-21T21:06:33.874Z"
   },
   {
    "duration": 8,
    "start_time": "2023-07-21T21:10:09.543Z"
   },
   {
    "duration": 9,
    "start_time": "2023-07-21T21:10:35.582Z"
   },
   {
    "duration": 4,
    "start_time": "2023-07-21T21:10:46.672Z"
   },
   {
    "duration": 4,
    "start_time": "2023-07-21T21:10:49.180Z"
   },
   {
    "duration": 3,
    "start_time": "2023-07-21T21:10:51.239Z"
   },
   {
    "duration": 14,
    "start_time": "2023-07-21T21:11:43.693Z"
   },
   {
    "duration": 44,
    "start_time": "2023-07-21T21:14:38.831Z"
   },
   {
    "duration": 2735,
    "start_time": "2023-07-21T21:14:43.129Z"
   },
   {
    "duration": 28765,
    "start_time": "2023-07-21T21:14:51.309Z"
   },
   {
    "duration": 2611,
    "start_time": "2023-07-23T12:51:41.304Z"
   },
   {
    "duration": 1832,
    "start_time": "2023-07-23T12:51:43.916Z"
   },
   {
    "duration": 22,
    "start_time": "2023-07-23T12:51:45.750Z"
   },
   {
    "duration": 235,
    "start_time": "2023-07-23T12:51:45.773Z"
   },
   {
    "duration": 4,
    "start_time": "2023-07-23T12:51:46.010Z"
   },
   {
    "duration": 7,
    "start_time": "2023-07-23T12:51:46.015Z"
   },
   {
    "duration": 118678,
    "start_time": "2023-07-23T12:51:46.024Z"
   },
   {
    "duration": 4688,
    "start_time": "2023-07-23T12:53:44.703Z"
   },
   {
    "duration": 10,
    "start_time": "2023-07-23T12:53:49.393Z"
   },
   {
    "duration": 3,
    "start_time": "2023-07-23T12:53:54.454Z"
   },
   {
    "duration": 6,
    "start_time": "2023-07-23T12:53:55.113Z"
   },
   {
    "duration": 2,
    "start_time": "2023-07-23T12:55:55.212Z"
   },
   {
    "duration": 2,
    "start_time": "2023-07-23T12:56:46.235Z"
   },
   {
    "duration": 3,
    "start_time": "2023-07-23T12:56:55.107Z"
   },
   {
    "duration": 3,
    "start_time": "2023-07-23T12:58:12.240Z"
   },
   {
    "duration": 3,
    "start_time": "2023-07-23T12:59:01.509Z"
   },
   {
    "duration": 23,
    "start_time": "2023-07-23T13:00:22.896Z"
   },
   {
    "duration": 10,
    "start_time": "2023-07-23T13:00:41.943Z"
   },
   {
    "duration": 4,
    "start_time": "2023-07-23T13:01:30.508Z"
   },
   {
    "duration": 146,
    "start_time": "2023-07-23T13:02:15.340Z"
   },
   {
    "duration": 1911,
    "start_time": "2023-07-23T13:03:23.529Z"
   },
   {
    "duration": 15,
    "start_time": "2023-07-23T13:03:28.122Z"
   },
   {
    "duration": 3,
    "start_time": "2023-07-23T13:03:44.238Z"
   },
   {
    "duration": 4,
    "start_time": "2023-07-23T13:04:22.401Z"
   },
   {
    "duration": 13,
    "start_time": "2023-07-23T13:04:51.857Z"
   },
   {
    "duration": 4,
    "start_time": "2023-07-23T13:05:43.666Z"
   },
   {
    "duration": 3,
    "start_time": "2023-07-23T13:05:54.335Z"
   },
   {
    "duration": 6,
    "start_time": "2023-07-23T13:05:57.944Z"
   },
   {
    "duration": 3,
    "start_time": "2023-07-23T13:05:58.930Z"
   },
   {
    "duration": 8528,
    "start_time": "2023-07-23T13:06:03.754Z"
   },
   {
    "duration": 4,
    "start_time": "2023-07-23T13:06:17.944Z"
   },
   {
    "duration": 2390,
    "start_time": "2023-07-23T13:10:14.598Z"
   },
   {
    "duration": 162,
    "start_time": "2023-07-23T13:11:26.855Z"
   },
   {
    "duration": 6,
    "start_time": "2023-07-23T13:11:33.731Z"
   },
   {
    "duration": 31,
    "start_time": "2023-07-23T13:11:49.202Z"
   },
   {
    "duration": 35,
    "start_time": "2023-07-23T13:12:00.233Z"
   },
   {
    "duration": 12,
    "start_time": "2023-07-23T13:12:20.556Z"
   },
   {
    "duration": 3,
    "start_time": "2023-07-23T13:12:32.935Z"
   },
   {
    "duration": 4,
    "start_time": "2023-07-23T13:12:34.431Z"
   },
   {
    "duration": 51698,
    "start_time": "2023-07-23T13:12:51.098Z"
   },
   {
    "duration": 2453980,
    "start_time": "2023-07-23T13:14:12.099Z"
   },
   {
    "duration": 9,
    "start_time": "2023-07-23T14:03:44.067Z"
   },
   {
    "duration": 3,
    "start_time": "2023-07-23T14:03:52.901Z"
   },
   {
    "duration": 2,
    "start_time": "2023-07-23T14:05:03.736Z"
   },
   {
    "duration": 14,
    "start_time": "2023-07-23T14:05:08.037Z"
   },
   {
    "duration": 22,
    "start_time": "2023-07-23T14:05:16.116Z"
   },
   {
    "duration": 21,
    "start_time": "2023-07-23T14:05:19.231Z"
   },
   {
    "duration": 2148,
    "start_time": "2023-07-23T14:08:25.828Z"
   },
   {
    "duration": 2712,
    "start_time": "2023-07-23T14:08:27.978Z"
   },
   {
    "duration": 3,
    "start_time": "2023-07-23T14:08:30.691Z"
   },
   {
    "duration": 2152,
    "start_time": "2023-07-23T14:08:30.695Z"
   },
   {
    "duration": 21,
    "start_time": "2023-07-23T14:08:32.849Z"
   },
   {
    "duration": 284,
    "start_time": "2023-07-23T14:08:32.872Z"
   },
   {
    "duration": 4,
    "start_time": "2023-07-23T14:08:33.158Z"
   },
   {
    "duration": 8,
    "start_time": "2023-07-23T14:08:33.164Z"
   },
   {
    "duration": 129362,
    "start_time": "2023-07-23T14:08:33.176Z"
   },
   {
    "duration": 4735,
    "start_time": "2023-07-23T14:10:42.540Z"
   },
   {
    "duration": 10,
    "start_time": "2023-07-23T14:10:47.282Z"
   },
   {
    "duration": 8,
    "start_time": "2023-07-23T14:10:47.294Z"
   },
   {
    "duration": 3,
    "start_time": "2023-07-23T14:10:47.304Z"
   },
   {
    "duration": 33,
    "start_time": "2023-07-23T14:10:47.310Z"
   },
   {
    "duration": 1957,
    "start_time": "2023-07-23T14:10:47.344Z"
   },
   {
    "duration": 9137,
    "start_time": "2023-07-23T14:10:49.303Z"
   },
   {
    "duration": 151,
    "start_time": "2023-07-23T14:10:58.442Z"
   },
   {
    "duration": 2786290,
    "start_time": "2023-07-23T14:10:58.596Z"
   },
   {
    "duration": 80,
    "start_time": "2023-07-23T14:57:24.893Z"
   },
   {
    "duration": 19,
    "start_time": "2023-07-23T14:57:24.975Z"
   },
   {
    "duration": 3,
    "start_time": "2023-07-23T14:57:24.996Z"
   },
   {
    "duration": 26,
    "start_time": "2023-07-23T14:57:25.000Z"
   },
   {
    "duration": 2394,
    "start_time": "2023-07-23T15:19:49.628Z"
   },
   {
    "duration": 3086,
    "start_time": "2023-07-23T15:19:52.025Z"
   },
   {
    "duration": 3,
    "start_time": "2023-07-23T15:19:55.113Z"
   },
   {
    "duration": 2262,
    "start_time": "2023-07-23T15:19:55.118Z"
   },
   {
    "duration": 22,
    "start_time": "2023-07-23T15:19:57.385Z"
   },
   {
    "duration": 296,
    "start_time": "2023-07-23T15:19:57.409Z"
   },
   {
    "duration": 4,
    "start_time": "2023-07-23T15:19:57.706Z"
   },
   {
    "duration": 9,
    "start_time": "2023-07-23T15:19:57.712Z"
   },
   {
    "duration": 145708,
    "start_time": "2023-07-23T15:19:57.723Z"
   },
   {
    "duration": 5019,
    "start_time": "2023-07-23T15:22:23.432Z"
   },
   {
    "duration": 8,
    "start_time": "2023-07-23T15:22:28.453Z"
   },
   {
    "duration": 20,
    "start_time": "2023-07-23T15:22:28.462Z"
   },
   {
    "duration": 25,
    "start_time": "2023-07-23T15:22:28.484Z"
   },
   {
    "duration": 28,
    "start_time": "2023-07-23T15:22:28.511Z"
   },
   {
    "duration": 2307,
    "start_time": "2023-07-23T15:22:28.541Z"
   },
   {
    "duration": 10713,
    "start_time": "2023-07-23T15:22:30.850Z"
   },
   {
    "duration": 212,
    "start_time": "2023-07-23T15:22:41.564Z"
   },
   {
    "duration": 5586897,
    "start_time": "2023-07-23T15:22:41.778Z"
   },
   {
    "duration": 4,
    "start_time": "2023-07-23T16:55:48.676Z"
   },
   {
    "duration": 17,
    "start_time": "2023-07-23T16:55:48.683Z"
   },
   {
    "duration": 3,
    "start_time": "2023-07-23T16:55:48.701Z"
   },
   {
    "duration": 15,
    "start_time": "2023-07-23T16:55:48.705Z"
   },
   {
    "duration": 2,
    "start_time": "2023-07-23T17:03:57.349Z"
   },
   {
    "duration": 50793,
    "start_time": "2023-07-23T17:04:27.992Z"
   },
   {
    "duration": 136,
    "start_time": "2023-07-23T17:05:18.788Z"
   },
   {
    "duration": 15,
    "start_time": "2023-07-23T17:05:50.859Z"
   },
   {
    "duration": 2164,
    "start_time": "2023-07-23T17:07:17.900Z"
   },
   {
    "duration": 3201,
    "start_time": "2023-07-23T17:07:20.071Z"
   },
   {
    "duration": 135,
    "start_time": "2023-07-23T17:07:23.274Z"
   },
   {
    "duration": 3,
    "start_time": "2023-07-23T17:07:23.411Z"
   },
   {
    "duration": 2136,
    "start_time": "2023-07-23T17:07:23.416Z"
   },
   {
    "duration": 26,
    "start_time": "2023-07-23T17:07:25.554Z"
   },
   {
    "duration": 307,
    "start_time": "2023-07-23T17:07:25.581Z"
   },
   {
    "duration": 3,
    "start_time": "2023-07-23T17:07:25.896Z"
   },
   {
    "duration": 9,
    "start_time": "2023-07-23T17:07:25.901Z"
   },
   {
    "duration": 143310,
    "start_time": "2023-07-23T17:07:25.912Z"
   },
   {
    "duration": 4623,
    "start_time": "2023-07-23T17:09:49.224Z"
   },
   {
    "duration": 9,
    "start_time": "2023-07-23T17:09:53.851Z"
   },
   {
    "duration": 12,
    "start_time": "2023-07-23T17:09:53.862Z"
   },
   {
    "duration": 14,
    "start_time": "2023-07-23T17:09:53.883Z"
   },
   {
    "duration": 40,
    "start_time": "2023-07-23T17:09:53.899Z"
   },
   {
    "duration": 2069,
    "start_time": "2023-07-23T17:09:53.940Z"
   },
   {
    "duration": 10647,
    "start_time": "2023-07-23T17:09:56.010Z"
   },
   {
    "duration": 5737020,
    "start_time": "2023-07-23T17:10:06.659Z"
   },
   {
    "duration": 5,
    "start_time": "2023-07-23T18:45:43.681Z"
   },
   {
    "duration": 8,
    "start_time": "2023-07-23T18:45:43.689Z"
   },
   {
    "duration": 14,
    "start_time": "2023-07-23T18:45:43.699Z"
   },
   {
    "duration": 2983,
    "start_time": "2023-07-24T15:53:19.538Z"
   },
   {
    "duration": 2104,
    "start_time": "2023-07-24T15:53:23.038Z"
   },
   {
    "duration": 145,
    "start_time": "2023-07-24T15:53:31.936Z"
   },
   {
    "duration": 163,
    "start_time": "2023-07-24T15:53:41.660Z"
   },
   {
    "duration": 7823,
    "start_time": "2023-07-24T15:54:02.151Z"
   },
   {
    "duration": 4782,
    "start_time": "2023-07-24T15:54:17.665Z"
   },
   {
    "duration": 240,
    "start_time": "2023-07-24T15:54:22.448Z"
   },
   {
    "duration": 4,
    "start_time": "2023-07-24T15:54:25.221Z"
   },
   {
    "duration": 2255,
    "start_time": "2023-07-24T15:54:25.460Z"
   },
   {
    "duration": 17,
    "start_time": "2023-07-24T15:54:27.728Z"
   },
   {
    "duration": 3,
    "start_time": "2023-07-24T15:55:27.445Z"
   },
   {
    "duration": 3,
    "start_time": "2023-07-24T15:55:31.041Z"
   },
   {
    "duration": 4,
    "start_time": "2023-07-24T15:55:48.771Z"
   },
   {
    "duration": 466,
    "start_time": "2023-07-24T15:56:00.022Z"
   },
   {
    "duration": 13,
    "start_time": "2023-07-24T15:57:02.016Z"
   },
   {
    "duration": 615,
    "start_time": "2023-07-24T15:57:05.038Z"
   },
   {
    "duration": 3,
    "start_time": "2023-07-24T15:58:08.563Z"
   },
   {
    "duration": 461,
    "start_time": "2023-07-24T15:58:11.130Z"
   },
   {
    "duration": 17410,
    "start_time": "2023-07-24T15:58:34.323Z"
   },
   {
    "duration": 0,
    "start_time": "2023-07-24T15:58:51.736Z"
   },
   {
    "duration": 0,
    "start_time": "2023-07-24T15:58:51.737Z"
   },
   {
    "duration": 2335,
    "start_time": "2023-07-24T16:17:57.658Z"
   },
   {
    "duration": 8363,
    "start_time": "2023-07-24T16:17:59.996Z"
   },
   {
    "duration": 2358,
    "start_time": "2023-07-24T16:18:08.361Z"
   },
   {
    "duration": 5036,
    "start_time": "2023-07-24T16:18:10.725Z"
   },
   {
    "duration": 157,
    "start_time": "2023-07-24T16:18:15.763Z"
   },
   {
    "duration": 6,
    "start_time": "2023-07-24T16:18:15.923Z"
   },
   {
    "duration": 2209,
    "start_time": "2023-07-24T16:18:15.931Z"
   },
   {
    "duration": 19,
    "start_time": "2023-07-24T16:18:18.142Z"
   },
   {
    "duration": 2,
    "start_time": "2023-07-24T16:18:18.162Z"
   },
   {
    "duration": 6,
    "start_time": "2023-07-24T16:18:18.165Z"
   },
   {
    "duration": 12,
    "start_time": "2023-07-24T16:18:18.172Z"
   },
   {
    "duration": 366,
    "start_time": "2023-07-24T16:18:18.186Z"
   },
   {
    "duration": 0,
    "start_time": "2023-07-24T16:18:18.554Z"
   },
   {
    "duration": 0,
    "start_time": "2023-07-24T16:18:18.555Z"
   },
   {
    "duration": 0,
    "start_time": "2023-07-24T16:18:18.556Z"
   },
   {
    "duration": 0,
    "start_time": "2023-07-24T16:18:18.556Z"
   },
   {
    "duration": 0,
    "start_time": "2023-07-24T16:18:18.558Z"
   },
   {
    "duration": 0,
    "start_time": "2023-07-24T16:18:18.558Z"
   },
   {
    "duration": 0,
    "start_time": "2023-07-24T16:18:18.559Z"
   },
   {
    "duration": 0,
    "start_time": "2023-07-24T16:18:18.560Z"
   },
   {
    "duration": 0,
    "start_time": "2023-07-24T16:18:18.561Z"
   },
   {
    "duration": 0,
    "start_time": "2023-07-24T16:18:18.562Z"
   },
   {
    "duration": 0,
    "start_time": "2023-07-24T16:18:18.563Z"
   },
   {
    "duration": 0,
    "start_time": "2023-07-24T16:18:18.564Z"
   },
   {
    "duration": 0,
    "start_time": "2023-07-24T16:18:18.565Z"
   },
   {
    "duration": 0,
    "start_time": "2023-07-24T16:18:18.566Z"
   },
   {
    "duration": 0,
    "start_time": "2023-07-24T16:18:18.567Z"
   },
   {
    "duration": 0,
    "start_time": "2023-07-24T16:18:18.568Z"
   },
   {
    "duration": 0,
    "start_time": "2023-07-24T16:18:18.568Z"
   },
   {
    "duration": 2499,
    "start_time": "2023-07-24T16:19:46.234Z"
   },
   {
    "duration": 11840,
    "start_time": "2023-07-24T16:19:48.735Z"
   },
   {
    "duration": 2770,
    "start_time": "2023-07-24T16:20:00.578Z"
   },
   {
    "duration": 5446,
    "start_time": "2023-07-24T16:20:03.349Z"
   },
   {
    "duration": 194,
    "start_time": "2023-07-24T16:20:08.797Z"
   },
   {
    "duration": 3,
    "start_time": "2023-07-24T16:20:08.992Z"
   },
   {
    "duration": 2328,
    "start_time": "2023-07-24T16:20:08.997Z"
   },
   {
    "duration": 14,
    "start_time": "2023-07-24T16:20:11.334Z"
   },
   {
    "duration": 4,
    "start_time": "2023-07-24T16:20:11.350Z"
   },
   {
    "duration": 15,
    "start_time": "2023-07-24T16:20:11.355Z"
   },
   {
    "duration": 7,
    "start_time": "2023-07-24T16:20:11.371Z"
   },
   {
    "duration": 20076,
    "start_time": "2023-07-24T16:20:11.379Z"
   },
   {
    "duration": 0,
    "start_time": "2023-07-24T16:20:31.457Z"
   },
   {
    "duration": 0,
    "start_time": "2023-07-24T16:20:31.458Z"
   },
   {
    "duration": 0,
    "start_time": "2023-07-24T16:20:31.459Z"
   },
   {
    "duration": 0,
    "start_time": "2023-07-24T16:20:31.461Z"
   },
   {
    "duration": 0,
    "start_time": "2023-07-24T16:20:31.462Z"
   },
   {
    "duration": 0,
    "start_time": "2023-07-24T16:20:31.464Z"
   },
   {
    "duration": 0,
    "start_time": "2023-07-24T16:20:31.464Z"
   },
   {
    "duration": 0,
    "start_time": "2023-07-24T16:20:31.466Z"
   },
   {
    "duration": 1,
    "start_time": "2023-07-24T16:20:31.466Z"
   },
   {
    "duration": 0,
    "start_time": "2023-07-24T16:20:31.467Z"
   },
   {
    "duration": 0,
    "start_time": "2023-07-24T16:20:31.468Z"
   },
   {
    "duration": 0,
    "start_time": "2023-07-24T16:20:31.469Z"
   },
   {
    "duration": 0,
    "start_time": "2023-07-24T16:20:31.471Z"
   },
   {
    "duration": 0,
    "start_time": "2023-07-24T16:20:31.471Z"
   },
   {
    "duration": 0,
    "start_time": "2023-07-24T16:20:31.472Z"
   },
   {
    "duration": 0,
    "start_time": "2023-07-24T16:20:31.473Z"
   },
   {
    "duration": 0,
    "start_time": "2023-07-24T16:20:31.499Z"
   },
   {
    "duration": 2379,
    "start_time": "2023-07-24T16:22:19.442Z"
   },
   {
    "duration": 10513,
    "start_time": "2023-07-24T16:22:21.825Z"
   },
   {
    "duration": 2546,
    "start_time": "2023-07-24T16:22:32.340Z"
   },
   {
    "duration": 5555,
    "start_time": "2023-07-24T16:22:34.888Z"
   },
   {
    "duration": 454,
    "start_time": "2023-07-24T16:22:40.445Z"
   },
   {
    "duration": 11,
    "start_time": "2023-07-24T16:22:40.908Z"
   },
   {
    "duration": 2111,
    "start_time": "2023-07-24T16:22:40.921Z"
   },
   {
    "duration": 23,
    "start_time": "2023-07-24T16:22:43.034Z"
   },
   {
    "duration": 82,
    "start_time": "2023-07-24T16:22:43.058Z"
   },
   {
    "duration": 28,
    "start_time": "2023-07-24T16:22:43.142Z"
   },
   {
    "duration": 26,
    "start_time": "2023-07-24T16:22:43.172Z"
   },
   {
    "duration": 29,
    "start_time": "2023-07-24T16:22:43.223Z"
   },
   {
    "duration": 1357139,
    "start_time": "2023-07-24T16:22:43.254Z"
   },
   {
    "duration": 0,
    "start_time": "2023-07-24T16:45:20.396Z"
   },
   {
    "duration": 0,
    "start_time": "2023-07-24T16:45:20.398Z"
   },
   {
    "duration": 0,
    "start_time": "2023-07-24T16:45:20.409Z"
   },
   {
    "duration": 0,
    "start_time": "2023-07-24T16:45:20.410Z"
   },
   {
    "duration": 0,
    "start_time": "2023-07-24T16:45:20.411Z"
   },
   {
    "duration": 0,
    "start_time": "2023-07-24T16:45:20.414Z"
   },
   {
    "duration": 0,
    "start_time": "2023-07-24T16:45:20.425Z"
   },
   {
    "duration": 0,
    "start_time": "2023-07-24T16:45:20.426Z"
   },
   {
    "duration": 0,
    "start_time": "2023-07-24T16:45:20.428Z"
   },
   {
    "duration": 0,
    "start_time": "2023-07-24T16:45:20.430Z"
   },
   {
    "duration": 0,
    "start_time": "2023-07-24T16:45:20.431Z"
   },
   {
    "duration": 0,
    "start_time": "2023-07-24T16:45:20.433Z"
   },
   {
    "duration": 0,
    "start_time": "2023-07-24T16:45:20.438Z"
   },
   {
    "duration": 0,
    "start_time": "2023-07-24T16:45:20.439Z"
   },
   {
    "duration": 0,
    "start_time": "2023-07-24T16:45:20.441Z"
   },
   {
    "duration": 0,
    "start_time": "2023-07-24T16:45:20.442Z"
   },
   {
    "duration": 2788,
    "start_time": "2023-07-24T16:51:11.967Z"
   },
   {
    "duration": 3988,
    "start_time": "2023-07-24T16:51:14.758Z"
   },
   {
    "duration": 694,
    "start_time": "2023-07-24T16:51:18.748Z"
   },
   {
    "duration": 7,
    "start_time": "2023-07-24T16:51:19.449Z"
   },
   {
    "duration": 2562,
    "start_time": "2023-07-24T16:51:19.459Z"
   },
   {
    "duration": 15,
    "start_time": "2023-07-24T16:51:22.023Z"
   },
   {
    "duration": 288,
    "start_time": "2023-07-24T16:51:22.042Z"
   },
   {
    "duration": 13,
    "start_time": "2023-07-24T16:51:22.332Z"
   },
   {
    "duration": 10,
    "start_time": "2023-07-24T16:51:22.347Z"
   },
   {
    "duration": 5,
    "start_time": "2023-07-24T16:51:22.359Z"
   },
   {
    "duration": 1215,
    "start_time": "2023-07-24T16:51:22.366Z"
   },
   {
    "duration": 0,
    "start_time": "2023-07-24T16:51:23.584Z"
   },
   {
    "duration": 0,
    "start_time": "2023-07-24T16:51:23.585Z"
   },
   {
    "duration": 0,
    "start_time": "2023-07-24T16:51:23.587Z"
   },
   {
    "duration": 0,
    "start_time": "2023-07-24T16:51:23.588Z"
   },
   {
    "duration": 0,
    "start_time": "2023-07-24T16:51:23.589Z"
   },
   {
    "duration": 0,
    "start_time": "2023-07-24T16:51:23.591Z"
   },
   {
    "duration": 0,
    "start_time": "2023-07-24T16:51:23.592Z"
   },
   {
    "duration": 0,
    "start_time": "2023-07-24T16:51:23.593Z"
   },
   {
    "duration": 0,
    "start_time": "2023-07-24T16:51:23.595Z"
   },
   {
    "duration": 0,
    "start_time": "2023-07-24T16:51:23.596Z"
   },
   {
    "duration": 1,
    "start_time": "2023-07-24T16:51:23.597Z"
   },
   {
    "duration": 0,
    "start_time": "2023-07-24T16:51:23.599Z"
   },
   {
    "duration": 0,
    "start_time": "2023-07-24T16:51:23.599Z"
   },
   {
    "duration": 0,
    "start_time": "2023-07-24T16:51:23.600Z"
   },
   {
    "duration": 0,
    "start_time": "2023-07-24T16:51:23.601Z"
   },
   {
    "duration": 0,
    "start_time": "2023-07-24T16:51:23.602Z"
   },
   {
    "duration": 2457,
    "start_time": "2023-07-24T16:52:43.797Z"
   },
   {
    "duration": 3541,
    "start_time": "2023-07-24T16:52:46.257Z"
   },
   {
    "duration": 831,
    "start_time": "2023-07-24T16:52:49.806Z"
   },
   {
    "duration": 8,
    "start_time": "2023-07-24T16:52:50.642Z"
   },
   {
    "duration": 2339,
    "start_time": "2023-07-24T16:52:50.653Z"
   },
   {
    "duration": 27,
    "start_time": "2023-07-24T16:52:52.993Z"
   },
   {
    "duration": 288,
    "start_time": "2023-07-24T16:52:53.022Z"
   },
   {
    "duration": 9,
    "start_time": "2023-07-24T16:52:53.311Z"
   },
   {
    "duration": 6,
    "start_time": "2023-07-24T16:52:53.322Z"
   },
   {
    "duration": 9,
    "start_time": "2023-07-24T16:52:53.338Z"
   },
   {
    "duration": 6,
    "start_time": "2023-07-24T16:52:53.349Z"
   },
   {
    "duration": 1479,
    "start_time": "2023-07-24T16:52:53.357Z"
   },
   {
    "duration": 0,
    "start_time": "2023-07-24T16:52:54.838Z"
   },
   {
    "duration": 0,
    "start_time": "2023-07-24T16:52:54.842Z"
   },
   {
    "duration": 0,
    "start_time": "2023-07-24T16:52:54.843Z"
   },
   {
    "duration": 0,
    "start_time": "2023-07-24T16:52:54.844Z"
   },
   {
    "duration": 0,
    "start_time": "2023-07-24T16:52:54.845Z"
   },
   {
    "duration": 0,
    "start_time": "2023-07-24T16:52:54.846Z"
   },
   {
    "duration": 0,
    "start_time": "2023-07-24T16:52:54.847Z"
   },
   {
    "duration": 0,
    "start_time": "2023-07-24T16:52:54.848Z"
   },
   {
    "duration": 0,
    "start_time": "2023-07-24T16:52:54.848Z"
   },
   {
    "duration": 0,
    "start_time": "2023-07-24T16:52:54.849Z"
   },
   {
    "duration": 0,
    "start_time": "2023-07-24T16:52:54.850Z"
   },
   {
    "duration": 0,
    "start_time": "2023-07-24T16:52:54.851Z"
   },
   {
    "duration": 0,
    "start_time": "2023-07-24T16:52:54.852Z"
   },
   {
    "duration": 0,
    "start_time": "2023-07-24T16:52:54.852Z"
   },
   {
    "duration": 0,
    "start_time": "2023-07-24T16:52:54.853Z"
   },
   {
    "duration": 0,
    "start_time": "2023-07-24T16:52:54.854Z"
   },
   {
    "duration": 2420,
    "start_time": "2023-07-24T16:53:41.369Z"
   },
   {
    "duration": 3388,
    "start_time": "2023-07-24T16:53:43.791Z"
   },
   {
    "duration": 647,
    "start_time": "2023-07-24T16:53:47.180Z"
   },
   {
    "duration": 8,
    "start_time": "2023-07-24T16:53:47.830Z"
   },
   {
    "duration": 2484,
    "start_time": "2023-07-24T16:53:47.840Z"
   },
   {
    "duration": 22,
    "start_time": "2023-07-24T16:53:50.325Z"
   },
   {
    "duration": 1392,
    "start_time": "2023-07-24T16:53:50.348Z"
   },
   {
    "duration": 3,
    "start_time": "2023-07-24T16:53:51.742Z"
   },
   {
    "duration": 8,
    "start_time": "2023-07-24T16:53:51.747Z"
   },
   {
    "duration": 14,
    "start_time": "2023-07-24T16:53:51.756Z"
   },
   {
    "duration": 12,
    "start_time": "2023-07-24T16:53:51.771Z"
   },
   {
    "duration": 1231,
    "start_time": "2023-07-24T16:53:51.784Z"
   },
   {
    "duration": 0,
    "start_time": "2023-07-24T16:53:53.024Z"
   },
   {
    "duration": 0,
    "start_time": "2023-07-24T16:53:53.033Z"
   },
   {
    "duration": 0,
    "start_time": "2023-07-24T16:53:53.038Z"
   },
   {
    "duration": 0,
    "start_time": "2023-07-24T16:53:53.043Z"
   },
   {
    "duration": 0,
    "start_time": "2023-07-24T16:53:53.046Z"
   },
   {
    "duration": 0,
    "start_time": "2023-07-24T16:53:53.047Z"
   },
   {
    "duration": 0,
    "start_time": "2023-07-24T16:53:53.048Z"
   },
   {
    "duration": 0,
    "start_time": "2023-07-24T16:53:53.049Z"
   },
   {
    "duration": 0,
    "start_time": "2023-07-24T16:53:53.050Z"
   },
   {
    "duration": 0,
    "start_time": "2023-07-24T16:53:53.051Z"
   },
   {
    "duration": 0,
    "start_time": "2023-07-24T16:53:53.053Z"
   },
   {
    "duration": 0,
    "start_time": "2023-07-24T16:53:53.054Z"
   },
   {
    "duration": 0,
    "start_time": "2023-07-24T16:53:53.055Z"
   },
   {
    "duration": 0,
    "start_time": "2023-07-24T16:53:53.056Z"
   },
   {
    "duration": 0,
    "start_time": "2023-07-24T16:53:53.057Z"
   },
   {
    "duration": 0,
    "start_time": "2023-07-24T16:53:53.059Z"
   },
   {
    "duration": 2322,
    "start_time": "2023-07-24T16:54:49.025Z"
   },
   {
    "duration": 3785,
    "start_time": "2023-07-24T16:54:51.350Z"
   },
   {
    "duration": 810,
    "start_time": "2023-07-24T16:54:55.136Z"
   },
   {
    "duration": 8,
    "start_time": "2023-07-24T16:54:55.952Z"
   },
   {
    "duration": 2022,
    "start_time": "2023-07-24T16:54:55.963Z"
   },
   {
    "duration": 37,
    "start_time": "2023-07-24T16:54:57.986Z"
   },
   {
    "duration": 228,
    "start_time": "2023-07-24T16:54:58.032Z"
   },
   {
    "duration": 4,
    "start_time": "2023-07-24T16:54:58.261Z"
   },
   {
    "duration": 10,
    "start_time": "2023-07-24T16:54:58.266Z"
   },
   {
    "duration": 10,
    "start_time": "2023-07-24T16:54:58.278Z"
   },
   {
    "duration": 20,
    "start_time": "2023-07-24T16:54:58.289Z"
   },
   {
    "duration": 1411207,
    "start_time": "2023-07-24T16:54:58.310Z"
   },
   {
    "duration": 5131,
    "start_time": "2023-07-24T17:18:29.519Z"
   },
   {
    "duration": 9,
    "start_time": "2023-07-24T17:18:34.654Z"
   },
   {
    "duration": 3383,
    "start_time": "2023-07-24T17:18:34.665Z"
   },
   {
    "duration": 4275,
    "start_time": "2023-07-24T17:18:38.050Z"
   },
   {
    "duration": 4932,
    "start_time": "2023-07-24T17:18:42.328Z"
   },
   {
    "duration": 196,
    "start_time": "2023-07-24T17:18:47.262Z"
   },
   {
    "duration": 0,
    "start_time": "2023-07-24T17:18:47.459Z"
   },
   {
    "duration": 0,
    "start_time": "2023-07-24T17:18:47.460Z"
   },
   {
    "duration": 0,
    "start_time": "2023-07-24T17:18:47.461Z"
   },
   {
    "duration": 0,
    "start_time": "2023-07-24T17:18:47.462Z"
   },
   {
    "duration": 0,
    "start_time": "2023-07-24T17:18:47.463Z"
   },
   {
    "duration": 0,
    "start_time": "2023-07-24T17:18:47.464Z"
   },
   {
    "duration": 0,
    "start_time": "2023-07-24T17:18:47.465Z"
   },
   {
    "duration": 0,
    "start_time": "2023-07-24T17:18:47.466Z"
   },
   {
    "duration": 0,
    "start_time": "2023-07-24T17:18:47.467Z"
   },
   {
    "duration": 0,
    "start_time": "2023-07-24T17:18:47.468Z"
   },
   {
    "duration": 20,
    "start_time": "2023-07-24T17:20:31.605Z"
   },
   {
    "duration": 17,
    "start_time": "2023-07-24T17:22:20.125Z"
   },
   {
    "duration": 14,
    "start_time": "2023-07-24T17:22:28.123Z"
   },
   {
    "duration": 208,
    "start_time": "2023-07-24T17:25:04.882Z"
   },
   {
    "duration": 150,
    "start_time": "2023-07-24T17:25:12.701Z"
   },
   {
    "duration": 136,
    "start_time": "2023-07-24T17:26:05.860Z"
   },
   {
    "duration": 155,
    "start_time": "2023-07-24T17:26:41.210Z"
   },
   {
    "duration": 44,
    "start_time": "2023-07-24T17:27:13.328Z"
   },
   {
    "duration": 56,
    "start_time": "2023-07-24T17:27:19.791Z"
   },
   {
    "duration": 327,
    "start_time": "2023-07-24T17:28:21.748Z"
   },
   {
    "duration": 217,
    "start_time": "2023-07-24T17:28:41.189Z"
   },
   {
    "duration": 36,
    "start_time": "2023-07-24T17:31:07.348Z"
   },
   {
    "duration": 903,
    "start_time": "2023-07-24T17:31:13.068Z"
   },
   {
    "duration": 18,
    "start_time": "2023-07-24T17:31:19.738Z"
   },
   {
    "duration": 1121,
    "start_time": "2023-07-24T17:31:29.809Z"
   },
   {
    "duration": 147,
    "start_time": "2023-07-24T17:37:15.074Z"
   },
   {
    "duration": 4420,
    "start_time": "2023-07-24T17:37:22.112Z"
   },
   {
    "duration": 4877,
    "start_time": "2023-07-24T17:37:26.535Z"
   },
   {
    "duration": 719,
    "start_time": "2023-07-24T17:37:31.414Z"
   },
   {
    "duration": 5,
    "start_time": "2023-07-24T17:37:32.135Z"
   },
   {
    "duration": 3000,
    "start_time": "2023-07-24T17:37:32.142Z"
   },
   {
    "duration": 68,
    "start_time": "2023-07-24T17:37:35.143Z"
   },
   {
    "duration": 290,
    "start_time": "2023-07-24T17:37:35.212Z"
   },
   {
    "duration": 4,
    "start_time": "2023-07-24T17:37:35.505Z"
   },
   {
    "duration": 38,
    "start_time": "2023-07-24T17:37:35.511Z"
   },
   {
    "duration": 25,
    "start_time": "2023-07-24T17:37:35.551Z"
   },
   {
    "duration": 13,
    "start_time": "2023-07-24T17:37:35.600Z"
   },
   {
    "duration": 2585528,
    "start_time": "2023-07-24T17:37:35.615Z"
   },
   {
    "duration": 4398,
    "start_time": "2023-07-24T18:20:41.144Z"
   },
   {
    "duration": 8,
    "start_time": "2023-07-24T18:20:45.546Z"
   },
   {
    "duration": 2219,
    "start_time": "2023-07-24T18:20:45.556Z"
   },
   {
    "duration": 2862,
    "start_time": "2023-07-24T18:20:47.777Z"
   },
   {
    "duration": 3546,
    "start_time": "2023-07-24T18:20:50.641Z"
   },
   {
    "duration": 171,
    "start_time": "2023-07-24T18:20:54.188Z"
   },
   {
    "duration": 1093,
    "start_time": "2023-07-24T18:20:54.361Z"
   },
   {
    "duration": 2675,
    "start_time": "2023-07-24T18:57:25.889Z"
   },
   {
    "duration": 5484,
    "start_time": "2023-07-24T18:57:28.567Z"
   },
   {
    "duration": 735,
    "start_time": "2023-07-24T18:57:34.054Z"
   },
   {
    "duration": 6,
    "start_time": "2023-07-24T18:57:34.791Z"
   },
   {
    "duration": 2476,
    "start_time": "2023-07-24T18:57:34.800Z"
   },
   {
    "duration": 13,
    "start_time": "2023-07-24T18:57:37.277Z"
   },
   {
    "duration": 367,
    "start_time": "2023-07-24T18:57:37.291Z"
   },
   {
    "duration": 4,
    "start_time": "2023-07-24T18:57:37.659Z"
   },
   {
    "duration": 11,
    "start_time": "2023-07-24T18:57:37.664Z"
   },
   {
    "duration": 9,
    "start_time": "2023-07-24T18:57:37.677Z"
   },
   {
    "duration": 7,
    "start_time": "2023-07-24T18:57:37.688Z"
   },
   {
    "duration": 1441969,
    "start_time": "2023-07-24T18:57:37.696Z"
   },
   {
    "duration": 4751,
    "start_time": "2023-07-24T19:21:39.667Z"
   },
   {
    "duration": 8,
    "start_time": "2023-07-24T19:21:44.421Z"
   },
   {
    "duration": 2466,
    "start_time": "2023-07-24T19:21:44.431Z"
   },
   {
    "duration": 3132,
    "start_time": "2023-07-24T19:21:46.899Z"
   },
   {
    "duration": 3386,
    "start_time": "2023-07-24T19:21:50.033Z"
   },
   {
    "duration": 651,
    "start_time": "2023-07-24T19:21:53.420Z"
   },
   {
    "duration": 1157,
    "start_time": "2023-07-24T19:21:54.072Z"
   },
   {
    "duration": 25709,
    "start_time": "2023-07-24T19:39:21.412Z"
   },
   {
    "duration": 155,
    "start_time": "2023-07-24T19:42:01.971Z"
   },
   {
    "duration": 141,
    "start_time": "2023-07-24T19:42:38.200Z"
   },
   {
    "duration": 154,
    "start_time": "2023-07-24T19:43:04.724Z"
   },
   {
    "duration": 0,
    "start_time": "2023-07-24T19:43:04.880Z"
   },
   {
    "duration": 2636,
    "start_time": "2023-07-25T16:04:03.062Z"
   },
   {
    "duration": 3131,
    "start_time": "2023-07-25T16:04:05.701Z"
   },
   {
    "duration": 251,
    "start_time": "2023-07-25T16:04:08.834Z"
   },
   {
    "duration": 3,
    "start_time": "2023-07-25T16:04:09.087Z"
   },
   {
    "duration": 2165,
    "start_time": "2023-07-25T16:04:09.093Z"
   },
   {
    "duration": 17,
    "start_time": "2023-07-25T16:04:11.259Z"
   },
   {
    "duration": 662,
    "start_time": "2023-07-25T16:04:11.278Z"
   },
   {
    "duration": 4,
    "start_time": "2023-07-25T16:04:11.943Z"
   },
   {
    "duration": 45,
    "start_time": "2023-07-25T16:04:11.949Z"
   },
   {
    "duration": 3,
    "start_time": "2023-07-25T16:04:14.530Z"
   },
   {
    "duration": 3,
    "start_time": "2023-07-25T16:04:16.339Z"
   },
   {
    "duration": 1430765,
    "start_time": "2023-07-25T16:04:17.838Z"
   },
   {
    "duration": 5517,
    "start_time": "2023-07-25T16:28:08.605Z"
   },
   {
    "duration": 11,
    "start_time": "2023-07-25T16:28:59.260Z"
   },
   {
    "duration": 3426,
    "start_time": "2023-07-25T16:29:01.027Z"
   },
   {
    "duration": 4911,
    "start_time": "2023-07-25T16:29:04.455Z"
   },
   {
    "duration": 3422,
    "start_time": "2023-07-25T16:29:09.369Z"
   },
   {
    "duration": 405,
    "start_time": "2023-07-25T16:29:12.793Z"
   },
   {
    "duration": 38,
    "start_time": "2023-07-25T16:29:54.827Z"
   },
   {
    "duration": 5,
    "start_time": "2023-07-25T16:30:06.528Z"
   },
   {
    "duration": 1328,
    "start_time": "2023-07-25T16:30:07.554Z"
   },
   {
    "duration": 77,
    "start_time": "2023-07-25T16:31:22.492Z"
   },
   {
    "duration": 16,
    "start_time": "2023-07-25T16:31:25.204Z"
   },
   {
    "duration": 103421,
    "start_time": "2023-07-25T16:31:27.835Z"
   },
   {
    "duration": 102017,
    "start_time": "2023-07-25T16:33:47.748Z"
   },
   {
    "duration": 94617,
    "start_time": "2023-07-25T16:37:20.124Z"
   },
   {
    "duration": 0,
    "start_time": "2023-07-25T16:41:19.961Z"
   },
   {
    "duration": 0,
    "start_time": "2023-07-25T16:41:19.963Z"
   },
   {
    "duration": 0,
    "start_time": "2023-07-25T16:42:03.476Z"
   },
   {
    "duration": 6,
    "start_time": "2023-07-25T16:42:20.526Z"
   },
   {
    "duration": 101992,
    "start_time": "2023-07-25T16:42:24.030Z"
   },
   {
    "duration": 177817,
    "start_time": "2023-07-25T16:44:20.837Z"
   },
   {
    "duration": 100600,
    "start_time": "2023-07-25T16:47:43.106Z"
   },
   {
    "duration": 12,
    "start_time": "2023-07-25T16:50:03.696Z"
   },
   {
    "duration": 4,
    "start_time": "2023-07-25T16:50:14.128Z"
   },
   {
    "duration": 104,
    "start_time": "2023-07-25T16:51:02.417Z"
   },
   {
    "duration": 531795,
    "start_time": "2023-07-25T16:51:08.315Z"
   },
   {
    "duration": 111972,
    "start_time": "2023-07-25T17:00:51.622Z"
   },
   {
    "duration": 0,
    "start_time": "2023-07-25T17:06:34.645Z"
   },
   {
    "duration": 821531,
    "start_time": "2023-07-25T17:06:36.347Z"
   },
   {
    "duration": 1997,
    "start_time": "2023-07-25T17:22:15.247Z"
   },
   {
    "duration": 14,
    "start_time": "2023-07-25T17:22:17.929Z"
   },
   {
    "duration": 2324,
    "start_time": "2023-07-25T17:23:23.923Z"
   },
   {
    "duration": 3647,
    "start_time": "2023-07-25T17:23:26.250Z"
   },
   {
    "duration": 465,
    "start_time": "2023-07-25T17:23:29.899Z"
   },
   {
    "duration": 3,
    "start_time": "2023-07-25T17:23:30.367Z"
   },
   {
    "duration": 2034,
    "start_time": "2023-07-25T17:23:30.373Z"
   },
   {
    "duration": 22,
    "start_time": "2023-07-25T17:23:32.415Z"
   },
   {
    "duration": 643,
    "start_time": "2023-07-25T17:23:32.439Z"
   },
   {
    "duration": 4,
    "start_time": "2023-07-25T17:23:33.084Z"
   },
   {
    "duration": 177,
    "start_time": "2023-07-25T17:23:33.090Z"
   },
   {
    "duration": 30,
    "start_time": "2023-07-25T17:23:33.269Z"
   },
   {
    "duration": 45,
    "start_time": "2023-07-25T17:23:33.301Z"
   },
   {
    "duration": 1464345,
    "start_time": "2023-07-25T17:23:33.348Z"
   },
   {
    "duration": 5427,
    "start_time": "2023-07-25T17:47:57.695Z"
   },
   {
    "duration": 10,
    "start_time": "2023-07-25T17:48:03.125Z"
   },
   {
    "duration": 2432,
    "start_time": "2023-07-25T17:48:03.137Z"
   },
   {
    "duration": 3058,
    "start_time": "2023-07-25T17:48:05.571Z"
   },
   {
    "duration": 5963,
    "start_time": "2023-07-25T17:48:08.631Z"
   },
   {
    "duration": 17,
    "start_time": "2023-07-25T17:48:14.596Z"
   },
   {
    "duration": 1336,
    "start_time": "2023-07-25T17:48:14.615Z"
   },
   {
    "duration": 92,
    "start_time": "2023-07-25T17:48:15.953Z"
   },
   {
    "duration": 4,
    "start_time": "2023-07-25T17:48:16.047Z"
   },
   {
    "duration": 109298,
    "start_time": "2023-07-25T17:48:16.053Z"
   },
   {
    "duration": 536060,
    "start_time": "2023-07-25T17:50:05.353Z"
   },
   {
    "duration": 856992,
    "start_time": "2023-07-25T17:59:01.419Z"
   },
   {
    "duration": 1922,
    "start_time": "2023-07-25T18:13:18.422Z"
   },
   {
    "duration": 16,
    "start_time": "2023-07-25T18:13:20.346Z"
   }
  ],
  "kernelspec": {
   "display_name": "Python 3 (ipykernel)",
   "language": "python",
   "name": "python3"
  },
  "language_info": {
   "codemirror_mode": {
    "name": "ipython",
    "version": 3
   },
   "file_extension": ".py",
   "mimetype": "text/x-python",
   "name": "python",
   "nbconvert_exporter": "python",
   "pygments_lexer": "ipython3",
   "version": "3.9.16"
  },
  "toc": {
   "base_numbering": 1,
   "nav_menu": {},
   "number_sections": true,
   "sideBar": true,
   "skip_h1_title": true,
   "title_cell": "Содержание",
   "title_sidebar": "Contents",
   "toc_cell": true,
   "toc_position": {
    "height": "calc(100% - 180px)",
    "left": "10px",
    "top": "150px",
    "width": "302.391px"
   },
   "toc_section_display": true,
   "toc_window_display": false
  }
 },
 "nbformat": 4,
 "nbformat_minor": 2
}
